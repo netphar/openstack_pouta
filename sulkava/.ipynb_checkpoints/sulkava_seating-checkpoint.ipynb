{
 "cells": [
  {
   "cell_type": "markdown",
   "metadata": {},
   "source": [
    "### background\n",
    "I have a list of N people who need to be seated in a boat in N seats. \n",
    "Boat has one cox, and 7 pairs of rowers. N = 15.\n",
    "People need to be matched by weight, such that the boat is balanced in terms of roll and pitch (https://commons.wikimedia.org/wiki/File:Rotations.png#/media/File:Rotations.png)\n",
    "and by height, so that people have neighbours of similar heights (to make rowing as a unit easier).\n",
    "People also have preferences:\n",
    "* To cox or not to cox. \n",
    "* Sit in the front/back/middle of the boat. NB: height makes it uncomfortable for tall people to sit in the first or last row.\n",
    "* In case of switching, some people would like to switch sides.\n",
    "\n",
    "Switching.\n",
    "in total there are 4 seating plans to make, since seating will be switched 4 times throughout the race (see last point in preferences).\n",
    "\n",
    "### solution\n",
    "it can be seen as a variant of a stable-marriage problem (https://en.wikipedia.org/wiki/Stable_marriage_problem). SMP is the problem of finding a stable matching between two equally sized sets of elements given an ordering of preferences for each element. \n",
    "There are two differences: \n",
    "* it is unidirectional (so rowers *prefer* sits, but sits *do not prefer* rowers).\n",
    "* it is with indifference, so it needs not to exist a strict order of preferences, e.g. top 3 sits are given, rest is of equal priority. see https://en.wikipedia.org/wiki/Stable_marriage_with_indifference\n",
    "\n",
    "the assignment problem might be good to look into, if we are able to translate weight/height matches into some edge weights. The assignment problem consists of finding, in a weighted bipartite graph, a matching in which the sum of weights of the edges is as large as possible. A common variant consists of finding a minimum-weight perfect matching. see https://en.wikipedia.org/wiki/Assignment_problem\n",
    "\n",
    "#### for NetPharMed:\n",
    "There is an implementation of a classical bidirectional aglo implemented as Matcher() below. It matches rowers with seats. From the point of view of a rower, it is truthful, ie no better seating can be achieved by misinforming the preferences. To adapt it for office seating, make all the sits have identical preferences for rowers. That can also be used in the git manual, to make people branch the file, input their preferences, and then submit a pull request.\n",
    "\n",
    "#### for Sulkava:\n",
    "how to make matching by weight/height happen? One idea is to use simulated annealing. SA is an optimization technique to find a global optimum of a function, esp when the search space is discrete. For problems where finding an *approximate global optimum* is more important than finding a *precise local optimum in a fixed amount of time*, simulated annealing may be preferable to alternatives such as gradient descent. The notion of slow cooling (from metallurgy) implemented in the simulated annealing algorithm is interpreted as a slow decrease in the probability of accepting worse solutions as the solution space is explored. At each time step, the algorithm randomly selects a solution close to the current one, measures its quality, and then decides to move to it or to stay with the current solution based on either one of two probabilities between which it chooses on the basis of the fact that the new solution is better or worse than the current one. During the search, the temperature is progressively decreased from an initial positive value to zero and affects the two probabilities: at each step, the probability of moving to a better new solution is either kept to 1 or is changed towards a positive value; on the other hand, the probability of moving to a worse new solution is progressively changed towards zero. Here it is in gif form: https://commons.wikimedia.org/wiki/File:Hill_Climbing_with_Simulated_Annealing.gif#/media/File:Hill_Climbing_with_Simulated_Annealing.gif\n",
    "\n",
    "Here is the implementation of SA for wedding table seating (where there are N tables for P people, each table sits M people, match people's preferences so that they do not sit with those they hate, and tend to preserve their groups of friends. https://lukeplant.me.uk/blog/posts/wedding-hacks---seating-planner-using-simulated-annealing/ The idea is that you define a matrix of connections, with a zero indicating that the people don’t know each other, 1 that they do know each other, plus 50 indicating that they must be together, and negative numbers for people who should be kept apart!\n",
    "Here is an alternative to it: http://linanqiu.github.io/2018/03/05/Wedding-Seat-Optimization/ with a Jup notebook https://github.com/linanqiu/wedding-optimization-simulated-annealing/blob/master/wedding-optimization.ipynb\n",
    "and another https://github.com/zneedell/seating_optimization/blob/master/main.ipynb\n",
    "\n",
    "Here is a different solution of the wedding seat solved using hypergraphs. We model it as a hypergraph partitioning problem and solving it with KaHyPar (http://kahypar.org/ / http://github.com/SebastianSchlag/kahypar). Every guest is represented by a node and weighted hyperedges express relationships (a couple and their kids, extended family, friends, acquaintances, etc). The goal is to partition the hypergraph into (roughly) equal-sized parts (i.e., tables) while minimising the sum of weights of cut hyperedges (\"λ-1 metric\").\n",
    "\n",
    "This is a solution using simple linear programming https://stackoverflow.com/questions/19143474/which-algorithm-could-solve-my-wedding-table-issue but without code."
   ]
  },
  {
   "cell_type": "markdown",
   "metadata": {},
   "source": [
    "[16:45, 7/3/2019] Tiia: Ok 😂  you can ignore preferences if they clash with measurements. I'd say tall to short from cox to back, at least I kept hitting Elli's oar when I rowed behind her\n",
    "[16:46, 7/3/2019] Tiia: And Karen should be close to front / Cox, cause she has a hearing problem"
   ]
  },
  {
   "cell_type": "code",
   "execution_count": 291,
   "metadata": {},
   "outputs": [
    {
     "name": "stdout",
     "output_type": "stream",
     "text": [
      "Populating the interactive namespace from numpy and matplotlib\n"
     ]
    },
    {
     "name": "stderr",
     "output_type": "stream",
     "text": [
      "/Users/zagidull/miniconda3/envs/fimm/lib/python3.7/site-packages/IPython/core/magics/pylab.py:160: UserWarning: pylab import has clobbered these variables: ['f']\n",
      "`%matplotlib` prevents importing * from pylab and numpy\n",
      "  \"\\n`%matplotlib` prevents importing * from pylab and numpy\"\n"
     ]
    }
   ],
   "source": [
    "%pylab inline\n",
    "import pandas as pd\n",
    "import numpy as np\n",
    "from collections import defaultdict, OrderedDict"
   ]
  },
  {
   "cell_type": "code",
   "execution_count": 273,
   "metadata": {},
   "outputs": [],
   "source": [
    "# refer to gale-shapley 1962 paper for the original algo\n",
    "\n",
    "\n",
    "class Matcher:\n",
    "\n",
    "    def __init__(self, rowers, sits, forbidden):\n",
    "        '''\n",
    "        Constructs a Matcher instance.\n",
    "        Takes a dict of rowers's sittings preferences, `rowers`,\n",
    "        a dict of special sits to be allocated e.g. white oars, `sits`,\n",
    "        and a dict specifying which sittings are forbidden\n",
    "        for each rower:\n",
    "        >>> forbidden = { 'name': ['3', '4', ... ] }\n",
    "        '''\n",
    "        self.R = rowers\n",
    "        self.S = sits\n",
    "        self.forbidden = forbidden\n",
    "        self.sittings = {}\n",
    "        self.pairs = []\n",
    "\n",
    "        # we rank sitting preferences at initialization \n",
    "        # to avoid expensive lookups when matching\n",
    "        self.rrank = defaultdict(dict)  # `rrank[r][s]` is r's ranking of s\n",
    "        self.srank = defaultdict(dict)  # `srank[s][r]` is s's ranking of r\n",
    "\n",
    "        for r, prefs in rowers.items():\n",
    "            for i, s in enumerate(prefs):\n",
    "                self.rrank[r][s] = i\n",
    "\n",
    "        for s, prefs in sits.items():\n",
    "            for i, r in enumerate(prefs):\n",
    "                self.srank[s][r] = i\n",
    "\n",
    "    def __call__(self):\n",
    "        return self.match()\n",
    "\n",
    "    def prefers(self, s, r, h):\n",
    "        '''\n",
    "        Test whether s prefers r over h.\n",
    "        '''\n",
    "        return self.srank[s][r] < self.srank[s][h]\n",
    "\n",
    "    def is_forbidden(self, r, s):\n",
    "        '''\n",
    "        Test whether (r, s) is a forbidden pairing.\n",
    "        '''\n",
    "        return s in self.forbidden.get(r, [])\n",
    "\n",
    "    def after(self, r, s):\n",
    "        '''\n",
    "        Return the sit favored by r after s.\n",
    "        \n",
    "        '''\n",
    "        prefs = self.R[r]               # r's ordered list of preferences\n",
    "        i = self.rrank[r][s] + 1        # index of sits following s in list of prefs\n",
    "        if i >= len(prefs):\n",
    "            return ''                   # no more sits left!\n",
    "        s = prefs[i]                    # sit following s in list of prefs\n",
    "        if self.is_forbidden(r, s):     # if r, s) is forbidden\n",
    "            return self.after(r, s)     # try next w \n",
    "        return s\n",
    "\n",
    "    def match(self, rowers=None, next=None, sittings=None):\n",
    "        '''\n",
    "        Try to match all rowers with their next preferred sit.\n",
    "        \n",
    "        '''\n",
    "        if rowers is None: \n",
    "            rowers = list(self.R)         # get the complete list of rowers\n",
    "        if next is None: \n",
    "            # if not defined, map each rower to their first preference\n",
    "            next = dict((r, rank[0]) for r, rank in self.R.items()) \n",
    "        if sittings is None: \n",
    "            sittings = {}                  # mapping from sit to current sitting\n",
    "        if not len(rowers): \n",
    "            self.pairs = [(h, s) for s, h in sittings.items()]\n",
    "            self.sittings = sittings\n",
    "            return sittings\n",
    "        r, rowers = rowers[0], rowers[1:]\n",
    "        s = next[r]                     # next sit for m to choose\n",
    "        if not s:                       # continue if no sit to choose\n",
    "            return self.match(rowers, next, sittings)\n",
    "        next[r] = self.after(r, s)      # sit after s in r's list of prefs\n",
    "        if s in sittings:\n",
    "            h = sittings[s]                # current sitting\n",
    "            if self.prefers(s, r, h):\n",
    "                rowers.append(h)           # sit becomes available again\n",
    "                sittings[s] = r            # s becomes sit for r\n",
    "            else:\n",
    "                rowers.append(r)           # r remains unsitted\n",
    "        else:\n",
    "            sittings[s] = r                # s becomes s for r\n",
    "        return self.match(rowers, next, sittings)\n",
    "\n",
    "    def is_stable(self, sittings=None, verbose=False):\n",
    "        if sittings is None:\n",
    "            sittings = self.sittings\n",
    "        for s, r in sittings.items():\n",
    "            i = self.R[r].index(s)\n",
    "            preferred = self.R[r][:i]\n",
    "            for p in preferred:\n",
    "                if p in self.forbidden.get(r, []):  # no need to worry about\n",
    "                    continue                        # forbidden configs\n",
    "                if not p in sittings:\n",
    "                    continue\n",
    "                h = sittings[p]\n",
    "                if self.S[p].index(r) < self.S[p].index(h):  \n",
    "                    msg = \"{}'s sitting to {} is unstable: \" + \\\n",
    "                          \"{} prefers {} over {} and {} prefers \" + \\\n",
    "                          \"{} over the current sitting {}\"\n",
    "                    if verbose:\n",
    "                        print(msg.format(r, s, r, p, s, p, r, h))\n",
    "                    return False\n",
    "        return True\n"
   ]
  },
  {
   "cell_type": "code",
   "execution_count": 274,
   "metadata": {},
   "outputs": [],
   "source": [
    "# rowers is just people with their sit preferences\n",
    "rowers = \"tiia: 1, 2, 3, 4, 5, 6, 7, 8, 9, 10, 11, 12, 13, 14, 15; alison: 1, 2, 3, 4, 5, 10, 11, 12, 13, 6, 7, 8, 9, 14, 15; bulat: 1, 2, 3, 4, 5, 6, 7, 8, 9, 10, 11, 12, 13, 14, 15; arvydas: 1, 2, 3, 13, 14, 15, 4, 5, 6, 7, 8, 9, 10, 11, 12; julia: 6, 7, 8, 9, 10, 11, 12, 13, 14, 15, 1, 2, 3, 4, 5; lauri: 1, 2, 10, 11, 12, 3, 4, 5, 6, 7, 8, 9, 13, 14, 15; tatiana: 5, 6, 7, 8, 9, 10, 11, 12, 13, 1, 2, 3, 4, 14, 15; ulrika: 7, 8, 9, 10, 11, 12, 13, 1, 2, 3, 4, 5, 6, 14, 15; karen: 11, 12, 13, 14, 15, 1, 2, 3, 4, 5, 6, 7, 8, 9, 10; hans: 11, 12, 13, 1, 2, 3, 4, 5, 6, 7, 8, 9, 10, 14, 15; jaana: 9, 10, 11, 1, 2, 3, 4, 5, 6, 7, 8, 12, 13, 14, 15; joseph: 1, 2, 11, 12, 13, 14, 15, 3, 4, 5, 6, 7, 8, 9, 10; elli: 9, 10, 11, 12, 13, 14, 15, 1, 2, 3, 4, 5, 6, 7, 8; elina: 1, 2, 3, 4, 5, 6, 7, 8, 9, 10, 11, 12, 13, 14, 15; kul: 12, 13, 14, 15, 1, 2, 3, 4, 5, 6, 7, 8, 9, 10, 11\"                               \n",
    "# sits is \n",
    "sits = \"1: arvydas, julia, karen, tiia, bulat, elina, hans, joseph, lauri, ulrika, tatiana, jaana, alison, elli, kul; 2: arvydas, julia, karen, tiia, bulat, elina, hans, joseph, lauri, ulrika, tatiana, jaana, alison, elli, kul; 3: arvydas, julia, karen, tiia, bulat, elina, hans, joseph, lauri, ulrika, tatiana, jaana, alison, elli, kul; 4: arvydas, julia, karen, tiia, bulat, elina, hans, joseph, lauri, ulrika, tatiana, jaana, alison, elli, kul; 5: arvydas, julia, karen, tiia, bulat, elina, hans, joseph, lauri, ulrika, tatiana, jaana, alison, elli, kul; 6: arvydas, julia, karen, tiia, bulat, elina, hans, joseph, lauri, ulrika, tatiana, jaana, alison, elli, kul; 7: arvydas, julia, karen, tiia, bulat, elina, hans, joseph, lauri, ulrika, tatiana, jaana, alison, elli, kul; 8: arvydas, julia, karen, tiia, bulat, elina, hans, joseph, lauri, ulrika, tatiana, jaana, alison, elli, kul; 9: arvydas, julia, karen, tiia, bulat, elina, hans, joseph, lauri, ulrika, tatiana, jaana, alison, elli, kul; 10: arvydas, julia, karen, tiia, bulat, elina, hans, joseph, lauri, ulrika, tatiana, jaana, alison, elli, kul; 11: arvydas, julia, karen, tiia, bulat, elina, hans, joseph, lauri, ulrika, tatiana, jaana, alison, elli, kul; 12: arvydas, julia, karen, tiia, bulat, elina, hans, joseph, lauri, ulrika, tatiana, jaana, alison, elli, kul; 13: arvydas, julia, karen, tiia, bulat, elina, hans, joseph, lauri, ulrika, tatiana, jaana, alison, elli, kul; 14: arvydas, julia, karen, tiia, bulat, elina, hans, joseph, lauri, ulrika, tatiana, jaana, alison, elli, kul; 15: arvydas, julia, karen, tiia, bulat, elina, hans, joseph, lauri, ulrika, tatiana, jaana, alison, elli, kul\"\n",
    "\n",
    "# forbidden = \"1: jaana, joseph; 2: joseph, elli; 3: elli, elina; 4: elina, kul; 5: kul, tiia; 6: tiia, alison; 7: alison, bulat; 8: bulat, arvydas; 9: arvydas, julia; 10: julia, lauri; 11: lauri, tatiana; 12: tatiana, ulrika; 13: ulrika, karen; 14: karen, hans; 15: hans, jaana\""
   ]
  },
  {
   "cell_type": "code",
   "execution_count": 275,
   "metadata": {},
   "outputs": [],
   "source": [
    "def dictor(s):\n",
    "    '''\n",
    "    returns a dict from a string. Given in the following format\n",
    "    name0: preference0, preferenceN; nameK: preference0, preferenceN;\n",
    "    '''\n",
    "    return dict((k.strip(), v.strip().replace(',','').split()) for k,v in (item.split(':') for item in s.split(';')))"
   ]
  },
  {
   "cell_type": "code",
   "execution_count": 276,
   "metadata": {},
   "outputs": [],
   "source": [
    "r = dictor(rowers)\n",
    "s = dictor(sits)\n",
    "f = dictor(forbidden)"
   ]
  },
  {
   "cell_type": "code",
   "execution_count": 277,
   "metadata": {},
   "outputs": [],
   "source": [
    "out = Matcher(r, s, f)"
   ]
  },
  {
   "cell_type": "code",
   "execution_count": 278,
   "metadata": {},
   "outputs": [],
   "source": [
    "one = out()"
   ]
  },
  {
   "cell_type": "code",
   "execution_count": 279,
   "metadata": {},
   "outputs": [],
   "source": [
    "dtypes = {'cox': bool,'name': str, 'height [cm]': np.float, 'weight [kg]': np.float, 'notes': str}\n",
    "prefs = pd.read_csv('prefs.csv', sep=';', index_col=False, dtype=dtypes)\n",
    "\n",
    "# accomodate to elina's preference of sitting in front, by manually setting her height to height = height + 7\n",
    "prefs.loc[prefs['name'] == 'elina', 'height [cm]'] = 172.0\n",
    "### I CANNOT DO THAT IT WOULD MESS THINGS UP A GREAT DEAL\n",
    "#prefs.loc[prefs['name'] == 'tiia', 'height [cm]'] = 174.1\n"
   ]
  },
  {
   "cell_type": "code",
   "execution_count": 280,
   "metadata": {},
   "outputs": [],
   "source": [
    "# create a dict object, where name: {weight, height, cox}\n",
    "d = dict()\n",
    "for i in range(len(prefs)):\n",
    "    d[prefs.iloc[i,:]['name']] = {'height': prefs.iloc[i,:]['height [cm]'], 'weight': prefs.iloc[i,:]['weight [kg]'], 'cox': prefs.iloc[i,:]['cox']}\n",
    "\n",
    "# prep for rankign \n",
    "heights = dict()\n",
    "coxes = dict()\n",
    "for k,v in d.items():\n",
    "    heights[k]= v['height']\n",
    "for k,v in d.items():\n",
    "    coxes[k]= v['cox']\n",
    "    "
   ]
  },
  {
   "cell_type": "code",
   "execution_count": 281,
   "metadata": {},
   "outputs": [],
   "source": [
    "# ranking by height https://stackoverflow.com/questions/30282600/python-ranking-dictionary-return-rank\n",
    "\n",
    "heights_rank = {key: rank for rank, key in enumerate(sorted(heights, key=heights.get, reverse=True), 1)}\n",
    "\n",
    "# hack to accomodate for tiia wanting to cox (tiia ~ hans) \n",
    "# ToDo: for future use cox [True, False]\n",
    "temp = heights_rank['hans']\n",
    "heights_rank['hans'] = heights_rank['tiia']\n",
    "heights_rank['tiia'] = temp\n",
    "\n",
    "\n",
    "\n",
    "for k, v in heights_rank.items():\n",
    "    d[k]['rank_height'] = v  # do not modify in-place"
   ]
  },
  {
   "cell_type": "code",
   "execution_count": 282,
   "metadata": {},
   "outputs": [],
   "source": [
    "dd = d.copy()"
   ]
  },
  {
   "cell_type": "code",
   "execution_count": 283,
   "metadata": {},
   "outputs": [],
   "source": [
    "rng = np.random.RandomState(1234) # for reproducibility\n",
    "\n",
    "for k, v in dd.items():\n",
    "    out = list()\n",
    "    if v['rank_height'] == 1: # for highest rank it is just range(1,15)\n",
    "        rest = list(range(v['rank_height'],len(dd)))\n",
    "        out = out + rest\n",
    "    elif v['rank_height'] == len(dd): # for lowest rank it is arange(15,1,-1)\n",
    "        rest = list(arange(v['rank_height'],0,-1))\n",
    "        out = out + rest\n",
    "    elif v['rank_height'] == 2: #special handling for tiia, otherwise she gets rank 0\n",
    "        rest = [v['rank_height'],v['rank_height']+1,v['rank_height']-1,v['rank_height']+2]\n",
    "        out = rest + list(rng.permutation(list(set(set(np.arange(1,15,1))).difference(rest))))\n",
    "    elif v['rank_height'] < len(dd): # check that it is less than 15, then start building rest by +/- 1\n",
    "        rest = [v['rank_height'],v['rank_height']+1,v['rank_height']-1]\n",
    "        if v['rank_height']+1 < len(dd):\n",
    "            rest = rest + [v['rank_height']+2,v['rank_height']-2]\n",
    "        out = rest + list(rng.permutation(list(set(set(np.arange(1,15,1))).difference(rest))))  # here we get elements from range(1,15) that are not in rest, and then we shuffle them. list(set(set)) is needed because set returns ordered ??? values\n",
    "    v['rank_height_full'] = out\n",
    "\n",
    "#    dd[k]['rank_height_full'] = v['rank_height']\n"
   ]
  },
  {
   "cell_type": "code",
   "execution_count": 284,
   "metadata": {},
   "outputs": [],
   "source": [
    "rr = dict()\n",
    "for k,v in dd.items():\n",
    "    rr[k] = v['rank_height_full']"
   ]
  },
  {
   "cell_type": "code",
   "execution_count": 285,
   "metadata": {},
   "outputs": [],
   "source": [
    "out = Matcher(rr, s, f)"
   ]
  },
  {
   "cell_type": "code",
   "execution_count": 286,
   "metadata": {},
   "outputs": [],
   "source": [
    "two = out()"
   ]
  },
  {
   "cell_type": "markdown",
   "metadata": {},
   "source": [
    "#### by comparing one and two we should see a difference. Random layout to actually correct one is achieved using OrderedDict"
   ]
  },
  {
   "cell_type": "code",
   "execution_count": 292,
   "metadata": {},
   "outputs": [
    {
     "data": {
      "text/plain": [
       "OrderedDict([('1', 'arvydas'),\n",
       "             ('10', 'lauri'),\n",
       "             ('11', 'karen'),\n",
       "             ('12', 'hans'),\n",
       "             ('13', 'joseph'),\n",
       "             ('14', 'elli'),\n",
       "             ('15', 'kul'),\n",
       "             ('2', 'tiia'),\n",
       "             ('3', 'bulat'),\n",
       "             ('4', 'elina'),\n",
       "             ('5', 'tatiana'),\n",
       "             ('6', 'julia'),\n",
       "             ('7', 'ulrika'),\n",
       "             ('8', 'alison'),\n",
       "             ('9', 'jaana')])"
      ]
     },
     "execution_count": 292,
     "metadata": {},
     "output_type": "execute_result"
    }
   ],
   "source": [
    "OrderedDict(sorted(one.items()))"
   ]
  },
  {
   "cell_type": "code",
   "execution_count": 293,
   "metadata": {},
   "outputs": [
    {
     "data": {
      "text/plain": [
       "OrderedDict([(1, 'arvydas'),\n",
       "             (2, 'tiia'),\n",
       "             (3, 'julia'),\n",
       "             (4, 'bulat'),\n",
       "             (5, 'karen'),\n",
       "             (6, 'elina'),\n",
       "             (7, 'joseph'),\n",
       "             (8, 'lauri'),\n",
       "             (9, 'ulrika'),\n",
       "             (10, 'tatiana'),\n",
       "             (11, 'jaana'),\n",
       "             (12, 'hans'),\n",
       "             (13, 'alison'),\n",
       "             (14, 'elli'),\n",
       "             (15, 'kul')])"
      ]
     },
     "execution_count": 293,
     "metadata": {},
     "output_type": "execute_result"
    }
   ],
   "source": [
    "OrderedDict(sorted(two.items()))"
   ]
  },
  {
   "cell_type": "markdown",
   "metadata": {},
   "source": [
    "### mind the fact that one has commas around keys, another doesnt. Check when identical"
   ]
  },
  {
   "cell_type": "code",
   "execution_count": 299,
   "metadata": {},
   "outputs": [
    {
     "data": {
      "text/plain": [
       "{'tiia': {'height': 166.0,\n",
       "  'weight': 55.0,\n",
       "  'cox': True,\n",
       "  'rank_height': 2,\n",
       "  'rank_height_full': [2, 3, 1, 4, 12, 7, 14, 6, 5, 13, 9, 10, 11, 8]},\n",
       " 'alison': {'height': 164.0,\n",
       "  'weight': 64.1,\n",
       "  'cox': False,\n",
       "  'rank_height': 13,\n",
       "  'rank_height_full': [13, 14, 12, 15, 11, 8, 4, 6, 2, 5, 9, 1, 3, 7, 10]},\n",
       " 'bulat': {'height': 174.0,\n",
       "  'weight': 79.0,\n",
       "  'cox': False,\n",
       "  'rank_height': 4,\n",
       "  'rank_height_full': [4, 5, 3, 6, 2, 13, 10, 7, 11, 9, 1, 8, 14, 12]},\n",
       " 'arvydas': {'height': 181.0,\n",
       "  'weight': 77.0,\n",
       "  'cox': True,\n",
       "  'rank_height': 1,\n",
       "  'rank_height_full': [1, 2, 3, 4, 5, 6, 7, 8, 9, 10, 11, 12, 13, 14]},\n",
       " 'julia': {'height': 175.0,\n",
       "  'weight': 70.0,\n",
       "  'cox': True,\n",
       "  'rank_height': 3,\n",
       "  'rank_height_full': [3, 4, 2, 5, 1, 13, 11, 10, 7, 6, 14, 9, 8, 12]},\n",
       " 'lauri': {'height': 170.0,\n",
       "  'weight': 65.1,\n",
       "  'cox': False,\n",
       "  'rank_height': 8,\n",
       "  'rank_height_full': [8, 9, 7, 10, 6, 1, 11, 14, 12, 13, 2, 5, 4, 3]},\n",
       " 'tatiana': {'height': 169.0,\n",
       "  'weight': 55.5,\n",
       "  'cox': False,\n",
       "  'rank_height': 10,\n",
       "  'rank_height_full': [10, 11, 9, 12, 8, 7, 2, 1, 6, 14, 3, 5, 13, 4]},\n",
       " 'ulrika': {'height': 169.1,\n",
       "  'weight': 64.5,\n",
       "  'cox': False,\n",
       "  'rank_height': 9,\n",
       "  'rank_height_full': [9, 10, 8, 11, 7, 14, 3, 4, 2, 12, 1, 5, 6, 13]},\n",
       " 'karen': {'height': 173.5,\n",
       "  'weight': 67.5,\n",
       "  'cox': True,\n",
       "  'rank_height': 5,\n",
       "  'rank_height_full': [5, 6, 4, 7, 3, 8, 9, 14, 1, 12, 10, 2, 13, 11]},\n",
       " 'hans': {'height': 179.0,\n",
       "  'weight': 73.0,\n",
       "  'cox': False,\n",
       "  'rank_height': 12,\n",
       "  'rank_height_full': [12, 13, 11, 14, 10, 4, 6, 2, 3, 7, 8, 5, 1, 9]},\n",
       " 'jaana': {'height': 167.0,\n",
       "  'weight': 62.0,\n",
       "  'cox': False,\n",
       "  'rank_height': 11,\n",
       "  'rank_height_full': [11, 12, 10, 13, 9, 8, 1, 2, 4, 5, 14, 3, 7, 6]},\n",
       " 'joseph': {'height': 170.1,\n",
       "  'weight': 65.0,\n",
       "  'cox': False,\n",
       "  'rank_height': 7,\n",
       "  'rank_height_full': [7, 8, 6, 9, 5, 2, 13, 4, 1, 11, 3, 14, 10, 12]},\n",
       " 'elli': {'height': 163.0,\n",
       "  'weight': 60.0,\n",
       "  'cox': False,\n",
       "  'rank_height': 14,\n",
       "  'rank_height_full': [14, 15, 13, 9, 4, 6, 1, 7, 5, 2, 3, 11, 12, 10, 8]},\n",
       " 'elina': {'height': 172.0,\n",
       "  'weight': 55.1,\n",
       "  'cox': False,\n",
       "  'rank_height': 6,\n",
       "  'rank_height_full': [6, 7, 5, 8, 4, 13, 1, 11, 9, 10, 12, 14, 3, 2]},\n",
       " 'kul': {'height': 157.0,\n",
       "  'weight': 64.0,\n",
       "  'cox': False,\n",
       "  'rank_height': 15,\n",
       "  'rank_height_full': [15, 14, 13, 12, 11, 10, 9, 8, 7, 6, 5, 4, 3, 2, 1]}}"
      ]
     },
     "execution_count": 299,
     "metadata": {},
     "output_type": "execute_result"
    }
   ],
   "source": [
    "dd"
   ]
  },
  {
   "cell_type": "code",
   "execution_count": 298,
   "metadata": {},
   "outputs": [
    {
     "data": {
      "text/plain": [
       "{2: 'tiia',\n",
       " 13: 'alison',\n",
       " 4: 'bulat',\n",
       " 1: 'arvydas',\n",
       " 3: 'julia',\n",
       " 8: 'lauri',\n",
       " 10: 'tatiana',\n",
       " 9: 'ulrika',\n",
       " 5: 'karen',\n",
       " 12: 'hans',\n",
       " 11: 'jaana',\n",
       " 7: 'joseph',\n",
       " 14: 'elli',\n",
       " 6: 'elina',\n",
       " 15: 'kul'}"
      ]
     },
     "execution_count": 298,
     "metadata": {},
     "output_type": "execute_result"
    }
   ],
   "source": [
    "two"
   ]
  },
  {
   "cell_type": "code",
   "execution_count": 308,
   "metadata": {},
   "outputs": [],
   "source": [
    "two_w_weights = OrderedDict()\n",
    "# trying to add the weights\n",
    "for k,v in two.items():\n",
    "    two_w_weights[k] = {'name': v, 'weight': dd[v]['weight']}\n",
    "    \n",
    "two_w_weights = OrderedDict(sorted(two_w_weights.items()))"
   ]
  },
  {
   "cell_type": "markdown",
   "metadata": {},
   "source": [
    "### here we are adding weights to each sides"
   ]
  },
  {
   "cell_type": "code",
   "execution_count": 324,
   "metadata": {},
   "outputs": [
    {
     "name": "stdout",
     "output_type": "stream",
     "text": [
      "{'name': 'arvydas', 'weight': 77.0}\n",
      "{'name': 'tiia', 'weight': 55.0}\n",
      "{'name': 'julia', 'weight': 70.0}\n",
      "{'name': 'bulat', 'weight': 79.0}\n",
      "{'name': 'karen', 'weight': 67.5}\n",
      "{'name': 'elina', 'weight': 55.1}\n",
      "{'name': 'joseph', 'weight': 65.0}\n",
      "{'name': 'lauri', 'weight': 65.1}\n",
      "{'name': 'ulrika', 'weight': 64.5}\n",
      "{'name': 'tatiana', 'weight': 55.5}\n",
      "{'name': 'jaana', 'weight': 62.0}\n",
      "{'name': 'hans', 'weight': 73.0}\n",
      "{'name': 'alison', 'weight': 64.1}\n",
      "{'name': 'elli', 'weight': 60.0}\n",
      "{'name': 'kul', 'weight': 64.0}\n",
      "\n",
      "\n",
      "left is 442 kg, right is 457 kg\n",
      "left ['tiia', 'bulat', 'elina', 'lauri', 'tatiana', 'hans', 'elli'], right ['julia', 'karen', 'joseph', 'ulrika', 'jaana', 'alison', 'kul']\n"
     ]
    }
   ],
   "source": [
    "left, right = 0, 0\n",
    "names_left, names_right = [], []\n",
    "for k,v in two_w_weights.items():\n",
    "    print(v)\n",
    "    \n",
    "    if k % 2 == 0:\n",
    "        left = left + v['weight']\n",
    "        names_left.append(v['name'])\n",
    "    else:\n",
    "        if v['name'] == 'arvydas': # cox needs to be skipped\n",
    "            continue\n",
    "        right = right + v['weight']\n",
    "        names_right.append(v['name'])\n",
    "    \n",
    "print(\"\\n\")\n",
    "print(\"left is %d kg, right is %d kg\" % (left, right) )\n",
    "print(\"left %s, right %s\" % (names_left, names_right))\n",
    "    "
   ]
  },
  {
   "cell_type": "code",
   "execution_count": 311,
   "metadata": {},
   "outputs": [
    {
     "data": {
      "text/plain": [
       "442.7"
      ]
     },
     "execution_count": 311,
     "metadata": {},
     "output_type": "execute_result"
    }
   ],
   "source": [
    "left"
   ]
  },
  {
   "cell_type": "code",
   "execution_count": 312,
   "metadata": {},
   "outputs": [
    {
     "data": {
      "text/plain": [
       "534.1"
      ]
     },
     "execution_count": 312,
     "metadata": {},
     "output_type": "execute_result"
    }
   ],
   "source": [
    "right"
   ]
  },
  {
   "cell_type": "code",
   "execution_count": null,
   "metadata": {},
   "outputs": [],
   "source": []
  }
 ],
 "metadata": {
  "kernelspec": {
   "display_name": "Python 3",
   "language": "python",
   "name": "python3"
  },
  "language_info": {
   "codemirror_mode": {
    "name": "ipython",
    "version": 3
   },
   "file_extension": ".py",
   "mimetype": "text/x-python",
   "name": "python",
   "nbconvert_exporter": "python",
   "pygments_lexer": "ipython3",
   "version": "3.7.2"
  }
 },
 "nbformat": 4,
 "nbformat_minor": 2
}
