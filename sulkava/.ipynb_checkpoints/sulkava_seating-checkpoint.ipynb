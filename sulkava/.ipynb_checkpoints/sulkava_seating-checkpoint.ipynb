{
 "cells": [
  {
   "cell_type": "markdown",
   "metadata": {},
   "source": [
    "### background\n",
    "I have a list of N people who need to be seated in a boat in N seats. \n",
    "Boat has one cox, and 7 pairs of rowers. N = 15.\n",
    "People need to be matched by weight, such that the boat is balanced in terms of roll and pitch (https://commons.wikimedia.org/wiki/File:Rotations.png#/media/File:Rotations.png)\n",
    "and by height, so that people have neighbours of similar heights (to make rowing as a unit easier).\n",
    "People also have preferences:\n",
    "* To cox or not to cox. \n",
    "* Sit in the front/back/middle of the boat. NB: height makes it uncomfortable for tall people to sit in the first or last row.\n",
    "* In case of switching, some people would like to switch sides.\n",
    "\n",
    "Switching.\n",
    "in total there are 4 seating plans to make, since seating will be switched 4 times throughout the race (see last point in preferences).\n",
    "\n",
    "### solution\n",
    "it can be seen as a variant of a stable-marriage problem (https://en.wikipedia.org/wiki/Stable_marriage_problem). SMP is the problem of finding a stable matching between two equally sized sets of elements given an ordering of preferences for each element. \n",
    "There are two differences: \n",
    "* it is unidirectional (so rowers *prefer* sits, but sits *do not prefer* rowers).\n",
    "* it is with indifference, so it needs not to exist a strict order of preferences, e.g. top 3 sits are given, rest is of equal priority. see https://en.wikipedia.org/wiki/Stable_marriage_with_indifference\n",
    "\n",
    "the assignment problem might be good to look into, if we are able to translate weight/height matches into some edge weights. The assignment problem consists of finding, in a weighted bipartite graph, a matching in which the sum of weights of the edges is as large as possible. A common variant consists of finding a minimum-weight perfect matching. see https://en.wikipedia.org/wiki/Assignment_problem\n",
    "\n",
    "#### for NetPharMed:\n",
    "There is an implementation of a classical bidirectional aglo implemented as Matcher() below. It matches rowers with seats. From the point of view of a rower, it is truthful, ie no better seating can be achieved by misinforming the preferences. To adapt it for office seating, make all the sits have identical preferences for rowers. That can also be used in the git manual, to make people branch the file, input their preferences, and then submit a pull request.\n",
    "\n",
    "#### for Sulkava:\n",
    "how to make matching by weight/height happen? One idea is to use simulated annealing. SA is an optimization technique to find a global optimum of a function, esp when the search space is discrete. For problems where finding an *approximate global optimum* is more important than finding a *precise local optimum in a fixed amount of time*, simulated annealing may be preferable to alternatives such as gradient descent. The notion of slow cooling (from metallurgy) implemented in the simulated annealing algorithm is interpreted as a slow decrease in the probability of accepting worse solutions as the solution space is explored. At each time step, the algorithm randomly selects a solution close to the current one, measures its quality, and then decides to move to it or to stay with the current solution based on either one of two probabilities between which it chooses on the basis of the fact that the new solution is better or worse than the current one. During the search, the temperature is progressively decreased from an initial positive value to zero and affects the two probabilities: at each step, the probability of moving to a better new solution is either kept to 1 or is changed towards a positive value; on the other hand, the probability of moving to a worse new solution is progressively changed towards zero. Here it is in gif form: https://commons.wikimedia.org/wiki/File:Hill_Climbing_with_Simulated_Annealing.gif#/media/File:Hill_Climbing_with_Simulated_Annealing.gif\n",
    "\n",
    "Here is the implementation of SA for wedding table seating (where there are N tables for P people, each table sits M people, match people's preferences so that they do not sit with those they hate, and tend to preserve their groups of friends. https://lukeplant.me.uk/blog/posts/wedding-hacks---seating-planner-using-simulated-annealing/ The idea is that you define a matrix of connections, with a zero indicating that the people don’t know each other, 1 that they do know each other, plus 50 indicating that they must be together, and negative numbers for people who should be kept apart!\n",
    "Here is an alternative to it: http://linanqiu.github.io/2018/03/05/Wedding-Seat-Optimization/ with a Jup notebook https://github.com/linanqiu/wedding-optimization-simulated-annealing/blob/master/wedding-optimization.ipynb\n",
    "and another https://github.com/zneedell/seating_optimization/blob/master/main.ipynb\n",
    "\n",
    "Here is a different solution of the wedding seat solved using hypergraphs. We model it as a hypergraph partitioning problem and solving it with KaHyPar (http://kahypar.org/ / http://github.com/SebastianSchlag/kahypar). Every guest is represented by a node and weighted hyperedges express relationships (a couple and their kids, extended family, friends, acquaintances, etc). The goal is to partition the hypergraph into (roughly) equal-sized parts (i.e., tables) while minimising the sum of weights of cut hyperedges (\"λ-1 metric\").\n",
    "\n",
    "This is a solution using simple linear programming https://stackoverflow.com/questions/19143474/which-algorithm-could-solve-my-wedding-table-issue but without code."
   ]
  },
  {
   "cell_type": "markdown",
   "metadata": {},
   "source": [
    "[16:45, 7/3/2019] Tiia: Ok 😂  you can ignore preferences if they clash with measurements. I'd say tall to short from cox to back, at least I kept hitting Elli's oar when I rowed behind her\n",
    "[16:46, 7/3/2019] Tiia: And Karen should be close to front / Cox, cause she has a hearing problem"
   ]
  },
  {
   "cell_type": "code",
   "execution_count": 1,
   "metadata": {},
   "outputs": [
    {
     "name": "stdout",
     "output_type": "stream",
     "text": [
      "Populating the interactive namespace from numpy and matplotlib\n"
     ]
    }
   ],
   "source": [
    "%pylab inline\n",
    "import pandas as pd\n",
    "import numpy as np\n",
    "from collections import defaultdict, OrderedDict"
   ]
  },
  {
   "cell_type": "code",
   "execution_count": 2,
   "metadata": {},
   "outputs": [],
   "source": [
    "# refer to gale-shapley 1962 paper for the original algo\n",
    "\n",
    "\n",
    "class Matcher:\n",
    "\n",
    "    def __init__(self, rowers, sits, forbidden):\n",
    "        '''\n",
    "        Constructs a Matcher instance.\n",
    "        Takes a dict of rowers's sittings preferences, `rowers`,\n",
    "        a dict of special sits to be allocated e.g. white oars, `sits`. For now it is identical for all the rowers\n",
    "        and a dict specifying which sittings are forbidden\n",
    "        for each rower:\n",
    "        >>> forbidden = { 'name': ['3', '4', ... ] }\n",
    "        '''\n",
    "        self.R = rowers\n",
    "        self.S = sits\n",
    "        self.forbidden = forbidden\n",
    "        self.sittings = {}\n",
    "        self.pairs = []\n",
    "\n",
    "        # we rank sitting preferences at initialization \n",
    "        # to avoid expensive lookups when matching\n",
    "        self.rrank = defaultdict(dict)  # `rrank[r][s]` is r's ranking of s\n",
    "        self.srank = defaultdict(dict)  # `srank[s][r]` is s's ranking of r\n",
    "\n",
    "        for r, prefs in rowers.items():\n",
    "            for i, s in enumerate(prefs):\n",
    "                self.rrank[r][s] = i\n",
    "\n",
    "        for s, prefs in sits.items():\n",
    "            for i, r in enumerate(prefs):\n",
    "                self.srank[s][r] = i\n",
    "\n",
    "    def __call__(self):\n",
    "        return self.match()\n",
    "\n",
    "    def prefers(self, s, r, h):\n",
    "        '''\n",
    "        Test whether s prefers r over h.\n",
    "        '''\n",
    "        return self.srank[s][r] < self.srank[s][h]\n",
    "\n",
    "    def is_forbidden(self, r, s):\n",
    "        '''\n",
    "        Test whether (r, s) is a forbidden pairing.\n",
    "        '''\n",
    "        return s in self.forbidden.get(r, [])\n",
    "\n",
    "    def after(self, r, s):\n",
    "        '''\n",
    "        Return the sit favored by r after s.\n",
    "        \n",
    "        '''\n",
    "        prefs = self.R[r]               # r's ordered list of preferences\n",
    "        i = self.rrank[r][s] + 1        # index of sits following s in list of prefs\n",
    "        if i >= len(prefs):\n",
    "            return ''                   # no more sits left!\n",
    "        s = prefs[i]                    # sit following s in list of prefs\n",
    "        if self.is_forbidden(r, s):     # if r, s) is forbidden\n",
    "            return self.after(r, s)     # try next w \n",
    "        return s\n",
    "\n",
    "    def match(self, rowers=None, next=None, sittings=None):\n",
    "        '''\n",
    "        Try to match all rowers with their next preferred sit.\n",
    "        \n",
    "        '''\n",
    "        if rowers is None: \n",
    "            rowers = list(self.R)         # get the complete list of rowers\n",
    "        if next is None: \n",
    "            # if not defined, map each rower to their first preference\n",
    "            next = dict((r, rank[0]) for r, rank in self.R.items()) \n",
    "        if sittings is None: \n",
    "            sittings = {}                  # mapping from sit to current sitting\n",
    "        if not len(rowers): \n",
    "            self.pairs = [(h, s) for s, h in sittings.items()]\n",
    "            self.sittings = sittings\n",
    "            return sittings\n",
    "        r, rowers = rowers[0], rowers[1:]\n",
    "        s = next[r]                     # next sit for m to choose\n",
    "        if not s:                       # continue if no sit to choose\n",
    "            return self.match(rowers, next, sittings)\n",
    "        next[r] = self.after(r, s)      # sit after s in r's list of prefs\n",
    "        if s in sittings:\n",
    "            h = sittings[s]                # current sitting\n",
    "            if self.prefers(s, r, h):\n",
    "                rowers.append(h)           # sit becomes available again\n",
    "                sittings[s] = r            # s becomes sit for r\n",
    "            else:\n",
    "                rowers.append(r)           # r remains unsitted\n",
    "        else:\n",
    "            sittings[s] = r                # s becomes s for r\n",
    "        return self.match(rowers, next, sittings)\n",
    "\n",
    "    def is_stable(self, sittings=None, verbose=False):\n",
    "        if sittings is None:\n",
    "            sittings = self.sittings\n",
    "        for s, r in sittings.items():\n",
    "            i = self.R[r].index(s)\n",
    "            preferred = self.R[r][:i]\n",
    "            for p in preferred:\n",
    "                if p in self.forbidden.get(r, []):  # no need to worry about\n",
    "                    continue                        # forbidden configs\n",
    "                if not p in sittings:\n",
    "                    continue\n",
    "                h = sittings[p]\n",
    "                if self.S[p].index(r) < self.S[p].index(h):  \n",
    "                    msg = \"{}'s sitting to {} is unstable: \" + \\\n",
    "                          \"{} prefers {} over {} and {} prefers \" + \\\n",
    "                          \"{} over the current sitting {}\"\n",
    "                    if verbose:\n",
    "                        print(msg.format(r, s, r, p, s, p, r, h))\n",
    "                    return False\n",
    "        return True\n"
   ]
  },
  {
   "cell_type": "code",
   "execution_count": 3,
   "metadata": {},
   "outputs": [],
   "source": [
    "# rowers is just people with their sit preferences\n",
    "rowers = \"tiia: 1, 2, 3, 4, 5, 6, 7, 8, 9, 10, 11, 12, 13, 14, 15; alison: 1, 2, 3, 4, 5, 10, 11, 12, 13, 6, 7, 8, 9, 14, 15; bulat: 1, 2, 3, 4, 5, 6, 7, 8, 9, 10, 11, 12, 13, 14, 15; arvydas: 1, 2, 3, 13, 14, 15, 4, 5, 6, 7, 8, 9, 10, 11, 12; julia: 6, 7, 8, 9, 10, 11, 12, 13, 14, 15, 1, 2, 3, 4, 5; lauri: 1, 2, 10, 11, 12, 3, 4, 5, 6, 7, 8, 9, 13, 14, 15; tatiana: 5, 6, 7, 8, 9, 10, 11, 12, 13, 1, 2, 3, 4, 14, 15; ulrika: 7, 8, 9, 10, 11, 12, 13, 1, 2, 3, 4, 5, 6, 14, 15; karen: 11, 12, 13, 14, 15, 1, 2, 3, 4, 5, 6, 7, 8, 9, 10; hans: 11, 12, 13, 1, 2, 3, 4, 5, 6, 7, 8, 9, 10, 14, 15; jaana: 9, 10, 11, 1, 2, 3, 4, 5, 6, 7, 8, 12, 13, 14, 15; joseph: 1, 2, 11, 12, 13, 14, 15, 3, 4, 5, 6, 7, 8, 9, 10; elli: 9, 10, 11, 12, 13, 14, 15, 1, 2, 3, 4, 5, 6, 7, 8; elina: 1, 2, 3, 4, 5, 6, 7, 8, 9, 10, 11, 12, 13, 14, 15; kul: 12, 13, 14, 15, 1, 2, 3, 4, 5, 6, 7, 8, 9, 10, 11\"                               \n",
    "# sits is \n",
    "sits = \"1: arvydas, julia, karen, tiia, bulat, elina, hans, joseph, lauri, ulrika, tatiana, jaana, alison, elli, kul; 2: arvydas, julia, karen, tiia, bulat, elina, hans, joseph, lauri, ulrika, tatiana, jaana, alison, elli, kul; 3: arvydas, julia, karen, tiia, bulat, elina, hans, joseph, lauri, ulrika, tatiana, jaana, alison, elli, kul; 4: arvydas, julia, karen, tiia, bulat, elina, hans, joseph, lauri, ulrika, tatiana, jaana, alison, elli, kul; 5: arvydas, julia, karen, tiia, bulat, elina, hans, joseph, lauri, ulrika, tatiana, jaana, alison, elli, kul; 6: arvydas, julia, karen, tiia, bulat, elina, hans, joseph, lauri, ulrika, tatiana, jaana, alison, elli, kul; 7: arvydas, julia, karen, tiia, bulat, elina, hans, joseph, lauri, ulrika, tatiana, jaana, alison, elli, kul; 8: arvydas, julia, karen, tiia, bulat, elina, hans, joseph, lauri, ulrika, tatiana, jaana, alison, elli, kul; 9: arvydas, julia, karen, tiia, bulat, elina, hans, joseph, lauri, ulrika, tatiana, jaana, alison, elli, kul; 10: arvydas, julia, karen, tiia, bulat, elina, hans, joseph, lauri, ulrika, tatiana, jaana, alison, elli, kul; 11: arvydas, julia, karen, tiia, bulat, elina, hans, joseph, lauri, ulrika, tatiana, jaana, alison, elli, kul; 12: arvydas, julia, karen, tiia, bulat, elina, hans, joseph, lauri, ulrika, tatiana, jaana, alison, elli, kul; 13: arvydas, julia, karen, tiia, bulat, elina, hans, joseph, lauri, ulrika, tatiana, jaana, alison, elli, kul; 14: arvydas, julia, karen, tiia, bulat, elina, hans, joseph, lauri, ulrika, tatiana, jaana, alison, elli, kul; 15: arvydas, julia, karen, tiia, bulat, elina, hans, joseph, lauri, ulrika, tatiana, jaana, alison, elli, kul\"\n",
    "\n",
    "forbidden = str()\n",
    "# forbidden = \"1: jaana, joseph; 2: joseph, elli; 3: elli, elina; 4: elina, kul; 5: kul, tiia; 6: tiia, alison; 7: alison, bulat; 8: bulat, arvydas; 9: arvydas, julia; 10: julia, lauri; 11: lauri, tatiana; 12: tatiana, ulrika; 13: ulrika, karen; 14: karen, hans; 15: hans, jaana\""
   ]
  },
  {
   "cell_type": "code",
   "execution_count": 4,
   "metadata": {},
   "outputs": [
    {
     "name": "stdout",
     "output_type": "stream",
     "text": [
      " 1: arvydas, julia, karen, tiia, bulat, elina, hans, joseph, lauri, ulrika, tatiana, jaana, alison, elli, kul; 2: arvydas, julia, karen, tiia, bulat, elina, hans, joseph, lauri, ulrika, tatiana, jaana, alison, elli, kul; 3: arvydas, julia, karen, tiia, bulat, elina, hans, joseph, lauri, ulrika, tatiana, jaana, alison, elli, kul; 4: arvydas, julia, karen, tiia, bulat, elina, hans, joseph, lauri, ulrika, tatiana, jaana, alison, elli, kul; 5: arvydas, julia, karen, tiia, bulat, elina, hans, joseph, lauri, ulrika, tatiana, jaana, alison, elli, kul; 6: arvydas, julia, karen, tiia, bulat, elina, hans, joseph, lauri, ulrika, tatiana, jaana, alison, elli, kul; 7: arvydas, julia, karen, tiia, bulat, elina, hans, joseph, lauri, ulrika, tatiana, jaana, alison, elli, kul; 8: arvydas, julia, karen, tiia, bulat, elina, hans, joseph, lauri, ulrika, tatiana, jaana, alison, elli, kul; 9: arvydas, julia, karen, tiia, bulat, elina, hans, joseph, lauri, ulrika, tatiana, jaana, alison, elli, kul; 10: arvydas, julia, karen, tiia, bulat, elina, hans, joseph, lauri, ulrika, tatiana, jaana, alison, elli, kul; 11: arvydas, julia, karen, tiia, bulat, elina, hans, joseph, lauri, ulrika, tatiana, jaana, alison, elli, kul; 12: arvydas, julia, karen, tiia, bulat, elina, hans, joseph, lauri, ulrika, tatiana, jaana, alison, elli, kul; 13: arvydas, julia, karen, tiia, bulat, elina, hans, joseph, lauri, ulrika, tatiana, jaana, alison, elli, kul; 14: arvydas, julia, karen, tiia, bulat, elina, hans, joseph, lauri, ulrika, tatiana, jaana, alison, elli, kul; 15: arvydas, julia, karen, tiia, bulat, elina, hans, joseph, lauri, ulrika, tatiana, jaana, alison, elli, kul\n"
     ]
    }
   ],
   "source": [
    "sits = str()\n",
    "for i in range(1,16):\n",
    "    sits = sits + \" \" + \"{}: arvydas, julia, karen, tiia, bulat, elina, hans, joseph, lauri, ulrika, tatiana, jaana, alison, elli, kul;\".format(i)\n",
    "sits = sits.rstrip(';')\n",
    "print(sits)"
   ]
  },
  {
   "cell_type": "code",
   "execution_count": 5,
   "metadata": {},
   "outputs": [],
   "source": [
    "def dictor(s, void = False):\n",
    "    '''\n",
    "    returns a dict from a string. Given in the following format\n",
    "    name0: preference0, preferenceN; nameK: preference0, preferenceN;\n",
    "    '''\n",
    "    if void:\n",
    "        return dict()\n",
    "    return dict((k.strip(), v.strip().replace(',','').split()) for k,v in (item.split(':') for item in s.split(';')))"
   ]
  },
  {
   "cell_type": "code",
   "execution_count": 6,
   "metadata": {},
   "outputs": [],
   "source": [
    "r = dictor(rowers)\n",
    "s = dictor(sits)\n",
    "f = dictor(forbidden, void=True)  # as there are no forbidden sittings"
   ]
  },
  {
   "cell_type": "code",
   "execution_count": 7,
   "metadata": {},
   "outputs": [],
   "source": [
    "out = Matcher(r, s, f)"
   ]
  },
  {
   "cell_type": "code",
   "execution_count": 8,
   "metadata": {},
   "outputs": [],
   "source": [
    "one = out()"
   ]
  },
  {
   "cell_type": "code",
   "execution_count": 9,
   "metadata": {},
   "outputs": [],
   "source": [
    "dtypes = {'cox': bool,'name': str, 'height [cm]': np.float, 'weight [kg]': np.float, 'notes': str}\n",
    "prefs = pd.read_csv('prefs.csv', sep=';', index_col=False, dtype=dtypes)\n",
    "\n",
    "# accomodate to elina's preference of sitting in front, by manually setting her height to height = height + 7\n",
    "prefs.loc[prefs['name'] == 'elina', 'height [cm]'] = 172.0\n",
    "### I CANNOT DO THAT IT WOULD MESS THINGS UP A GREAT DEAL\n",
    "#prefs.loc[prefs['name'] == 'tiia', 'height [cm]'] = 174.1\n"
   ]
  },
  {
   "cell_type": "code",
   "execution_count": 45,
   "metadata": {},
   "outputs": [
    {
     "data": {
      "text/html": [
       "<div>\n",
       "<style scoped>\n",
       "    .dataframe tbody tr th:only-of-type {\n",
       "        vertical-align: middle;\n",
       "    }\n",
       "\n",
       "    .dataframe tbody tr th {\n",
       "        vertical-align: top;\n",
       "    }\n",
       "\n",
       "    .dataframe thead th {\n",
       "        text-align: right;\n",
       "    }\n",
       "</style>\n",
       "<table border=\"1\" class=\"dataframe\">\n",
       "  <thead>\n",
       "    <tr style=\"text-align: right;\">\n",
       "      <th></th>\n",
       "      <th>cox</th>\n",
       "      <th>name</th>\n",
       "      <th>height [cm]</th>\n",
       "      <th>weight [kg]</th>\n",
       "      <th>notes</th>\n",
       "    </tr>\n",
       "  </thead>\n",
       "  <tbody>\n",
       "    <tr>\n",
       "      <th>0</th>\n",
       "      <td>True</td>\n",
       "      <td>tiia</td>\n",
       "      <td>166.0</td>\n",
       "      <td>55.0</td>\n",
       "      <td>rower/white oar, can cox 1/4</td>\n",
       "    </tr>\n",
       "    <tr>\n",
       "      <th>1</th>\n",
       "      <td>False</td>\n",
       "      <td>alison</td>\n",
       "      <td>164.0</td>\n",
       "      <td>64.1</td>\n",
       "      <td>Rower</td>\n",
       "    </tr>\n",
       "    <tr>\n",
       "      <th>2</th>\n",
       "      <td>False</td>\n",
       "      <td>bulat</td>\n",
       "      <td>174.0</td>\n",
       "      <td>79.0</td>\n",
       "      <td>NaN</td>\n",
       "    </tr>\n",
       "    <tr>\n",
       "      <th>3</th>\n",
       "      <td>True</td>\n",
       "      <td>arvydas</td>\n",
       "      <td>181.0</td>\n",
       "      <td>77.0</td>\n",
       "      <td>Cox, white</td>\n",
       "    </tr>\n",
       "    <tr>\n",
       "      <th>4</th>\n",
       "      <td>True</td>\n",
       "      <td>julia</td>\n",
       "      <td>175.0</td>\n",
       "      <td>70.0</td>\n",
       "      <td>I usually do worse in the last two rows becaus...</td>\n",
       "    </tr>\n",
       "    <tr>\n",
       "      <th>5</th>\n",
       "      <td>False</td>\n",
       "      <td>lauri</td>\n",
       "      <td>170.0</td>\n",
       "      <td>65.1</td>\n",
       "      <td>NaN</td>\n",
       "    </tr>\n",
       "    <tr>\n",
       "      <th>6</th>\n",
       "      <td>False</td>\n",
       "      <td>tatiana</td>\n",
       "      <td>169.0</td>\n",
       "      <td>55.5</td>\n",
       "      <td>rower or white oar if needed</td>\n",
       "    </tr>\n",
       "    <tr>\n",
       "      <th>7</th>\n",
       "      <td>False</td>\n",
       "      <td>ulrika</td>\n",
       "      <td>169.1</td>\n",
       "      <td>64.5</td>\n",
       "      <td>Rower or white if needed</td>\n",
       "    </tr>\n",
       "    <tr>\n",
       "      <th>8</th>\n",
       "      <td>True</td>\n",
       "      <td>karen</td>\n",
       "      <td>173.5</td>\n",
       "      <td>67.5</td>\n",
       "      <td>Rower 1st/2nd row, white oar (if needed), also...</td>\n",
       "    </tr>\n",
       "    <tr>\n",
       "      <th>9</th>\n",
       "      <td>False</td>\n",
       "      <td>hans</td>\n",
       "      <td>179.0</td>\n",
       "      <td>73.0</td>\n",
       "      <td>NaN</td>\n",
       "    </tr>\n",
       "    <tr>\n",
       "      <th>10</th>\n",
       "      <td>False</td>\n",
       "      <td>jaana</td>\n",
       "      <td>167.0</td>\n",
       "      <td>62.0</td>\n",
       "      <td>want to change sides in every swich</td>\n",
       "    </tr>\n",
       "    <tr>\n",
       "      <th>11</th>\n",
       "      <td>False</td>\n",
       "      <td>joseph</td>\n",
       "      <td>170.1</td>\n",
       "      <td>65.0</td>\n",
       "      <td>NaN</td>\n",
       "    </tr>\n",
       "    <tr>\n",
       "      <th>12</th>\n",
       "      <td>False</td>\n",
       "      <td>elli</td>\n",
       "      <td>163.0</td>\n",
       "      <td>60.0</td>\n",
       "      <td>NaN</td>\n",
       "    </tr>\n",
       "    <tr>\n",
       "      <th>13</th>\n",
       "      <td>False</td>\n",
       "      <td>elina</td>\n",
       "      <td>172.0</td>\n",
       "      <td>55.1</td>\n",
       "      <td>Rower in the front part of the boat</td>\n",
       "    </tr>\n",
       "    <tr>\n",
       "      <th>14</th>\n",
       "      <td>False</td>\n",
       "      <td>kul</td>\n",
       "      <td>157.0</td>\n",
       "      <td>64.0</td>\n",
       "      <td>NaN</td>\n",
       "    </tr>\n",
       "  </tbody>\n",
       "</table>\n",
       "</div>"
      ],
      "text/plain": [
       "      cox     name  height [cm]  weight [kg]  \\\n",
       "0    True     tiia        166.0         55.0   \n",
       "1   False   alison        164.0         64.1   \n",
       "2   False    bulat        174.0         79.0   \n",
       "3    True  arvydas        181.0         77.0   \n",
       "4    True    julia        175.0         70.0   \n",
       "5   False    lauri        170.0         65.1   \n",
       "6   False  tatiana        169.0         55.5   \n",
       "7   False   ulrika        169.1         64.5   \n",
       "8    True    karen        173.5         67.5   \n",
       "9   False     hans        179.0         73.0   \n",
       "10  False    jaana        167.0         62.0   \n",
       "11  False   joseph        170.1         65.0   \n",
       "12  False     elli        163.0         60.0   \n",
       "13  False    elina        172.0         55.1   \n",
       "14  False      kul        157.0         64.0   \n",
       "\n",
       "                                                notes  \n",
       "0                        rower/white oar, can cox 1/4  \n",
       "1                                               Rower  \n",
       "2                                                 NaN  \n",
       "3                                          Cox, white  \n",
       "4   I usually do worse in the last two rows becaus...  \n",
       "5                                                 NaN  \n",
       "6                        rower or white oar if needed  \n",
       "7                            Rower or white if needed  \n",
       "8   Rower 1st/2nd row, white oar (if needed), also...  \n",
       "9                                                 NaN  \n",
       "10                want to change sides in every swich  \n",
       "11                                                NaN  \n",
       "12                                                NaN  \n",
       "13                Rower in the front part of the boat  \n",
       "14                                                NaN  "
      ]
     },
     "execution_count": 45,
     "metadata": {},
     "output_type": "execute_result"
    }
   ],
   "source": [
    "prefs"
   ]
  },
  {
   "cell_type": "code",
   "execution_count": 10,
   "metadata": {},
   "outputs": [],
   "source": [
    "# create a dict object, where name: {weight, height, cox}\n",
    "d = dict()\n",
    "for i in range(len(prefs)):\n",
    "    d[prefs.iloc[i,:]['name']] = {'height': prefs.iloc[i,:]['height [cm]'], 'weight': prefs.iloc[i,:]['weight [kg]'], 'cox': prefs.iloc[i,:]['cox']}\n",
    "\n",
    "# prep for rankign \n",
    "heights = dict()\n",
    "coxes = dict()\n",
    "for k,v in d.items():\n",
    "    heights[k]= v['height']\n",
    "for k,v in d.items():\n",
    "    coxes[k]= v['cox']\n",
    "    "
   ]
  },
  {
   "cell_type": "code",
   "execution_count": 11,
   "metadata": {},
   "outputs": [
    {
     "data": {
      "text/plain": [
       "{'tiia': {'height': 166.0, 'weight': 55.0, 'cox': True},\n",
       " 'alison': {'height': 164.0, 'weight': 64.1, 'cox': False},\n",
       " 'bulat': {'height': 174.0, 'weight': 79.0, 'cox': False},\n",
       " 'arvydas': {'height': 181.0, 'weight': 77.0, 'cox': True},\n",
       " 'julia': {'height': 175.0, 'weight': 70.0, 'cox': True},\n",
       " 'lauri': {'height': 170.0, 'weight': 65.1, 'cox': False},\n",
       " 'tatiana': {'height': 169.0, 'weight': 55.5, 'cox': False},\n",
       " 'ulrika': {'height': 169.1, 'weight': 64.5, 'cox': False},\n",
       " 'karen': {'height': 173.5, 'weight': 67.5, 'cox': True},\n",
       " 'hans': {'height': 179.0, 'weight': 73.0, 'cox': False},\n",
       " 'jaana': {'height': 167.0, 'weight': 62.0, 'cox': False},\n",
       " 'joseph': {'height': 170.1, 'weight': 65.0, 'cox': False},\n",
       " 'elli': {'height': 163.0, 'weight': 60.0, 'cox': False},\n",
       " 'elina': {'height': 172.0, 'weight': 55.1, 'cox': False},\n",
       " 'kul': {'height': 157.0, 'weight': 64.0, 'cox': False}}"
      ]
     },
     "execution_count": 11,
     "metadata": {},
     "output_type": "execute_result"
    }
   ],
   "source": [
    "d"
   ]
  },
  {
   "cell_type": "code",
   "execution_count": 12,
   "metadata": {},
   "outputs": [],
   "source": [
    "# ranking by height https://stackoverflow.com/questions/30282600/python-ranking-dictionary-return-rank\n",
    "\n",
    "heights_rank = {key: rank for rank, key in enumerate(sorted(heights, key=heights.get, reverse=True), 1)}\n",
    "\n",
    "# hack to accomodate for tiia wanting to cox (tiia ~ hans) \n",
    "# ToDo: for future use cox [True, False]\n",
    "temp = heights_rank['hans']\n",
    "heights_rank['hans'] = heights_rank['tiia']\n",
    "heights_rank['tiia'] = temp\n",
    "\n",
    "\n",
    "\n",
    "for k, v in heights_rank.items():\n",
    "    d[k]['rank_by_height'] = v  # do not modify in-place"
   ]
  },
  {
   "cell_type": "code",
   "execution_count": 13,
   "metadata": {},
   "outputs": [],
   "source": [
    "dd = d.copy()"
   ]
  },
  {
   "cell_type": "code",
   "execution_count": 14,
   "metadata": {},
   "outputs": [],
   "source": [
    "rng = np.random.RandomState(1234) # for reproducibility\n",
    "\n",
    "for k, v in dd.items():\n",
    "    out = list()\n",
    "    if v['rank_by_height'] == 1: # for highest rank it is just range(1,15)\n",
    "        rest = list(range(v['rank_by_height'],len(dd)+1))\n",
    "        out = out + rest\n",
    "    elif v['rank_by_height'] == len(dd): # for lowest rank it is arange(15,1,-1)\n",
    "        rest = list(arange(v['rank_by_height'],0,-1))\n",
    "        out = out + rest\n",
    "    elif v['rank_by_height'] == 2: #special handling for tiia, otherwise she gets rank 0\n",
    "        rest = [v['rank_by_height'],v['rank_by_height']+1,v['rank_by_height']-1,v['rank_by_height']+2]\n",
    "        out = rest + list(rng.permutation(list(set(set(np.arange(1,16,1))).difference(rest))))\n",
    "    elif v['rank_by_height'] < len(dd): # check that it is less than 15, then start building rest by +/- 1\n",
    "        rest = [v['rank_by_height'],v['rank_by_height']+1,v['rank_by_height']-1]\n",
    "        if v['rank_by_height']+1 < len(dd):\n",
    "            rest = rest + [v['rank_by_height']+2,v['rank_by_height']-2]\n",
    "        out = rest + list(rng.permutation(list(set(set(np.arange(1,16,1))).difference(rest))))  # here we get elements from range(1,15) that are not in rest, and then we shuffle them. list(set(set)) is needed because set returns ordered ??? values\n",
    "    v['rank_by_height_full'] = out\n",
    "\n",
    "#    dd[k]['rank_height_full'] = v['rank_height']\n"
   ]
  },
  {
   "cell_type": "code",
   "execution_count": 15,
   "metadata": {},
   "outputs": [],
   "source": [
    "rr = dict()\n",
    "for k,v in dd.items():\n",
    "    rr[k] = v['rank_by_height_full']"
   ]
  },
  {
   "cell_type": "code",
   "execution_count": 16,
   "metadata": {},
   "outputs": [],
   "source": [
    "out1 = Matcher(rr, s, f)"
   ]
  },
  {
   "cell_type": "code",
   "execution_count": 17,
   "metadata": {},
   "outputs": [],
   "source": [
    "two = out1()"
   ]
  },
  {
   "cell_type": "markdown",
   "metadata": {},
   "source": [
    "#### by comparing one and two we should see a difference. Random layout to actually correct one is achieved using OrderedDict"
   ]
  },
  {
   "cell_type": "markdown",
   "metadata": {},
   "source": [
    "### mind the fact that one has commas around keys, another doesnt. Check when identical"
   ]
  },
  {
   "cell_type": "code",
   "execution_count": 18,
   "metadata": {},
   "outputs": [],
   "source": [
    "two_w_weights = OrderedDict()\n",
    "# trying to add the weights\n",
    "for k,v in two.items():\n",
    "    two_w_weights[k] = {'name': v, 'weight': dd[v]['weight']}\n",
    "    \n",
    "two_w_weights = OrderedDict(sorted(two_w_weights.items()))"
   ]
  },
  {
   "cell_type": "code",
   "execution_count": 35,
   "metadata": {},
   "outputs": [],
   "source": [
    "cox, left_side, right_side = [], [], []  # let's take 2,4 ..., as left side and 3,5 ... as right\n",
    "for k,v in two_w_weights.items():\n",
    "    if k == 1:  # no need to put in the cox. Cox always has the rank of 1\n",
    "        cox.append([v['name'], k, v['weight']])\n",
    "    elif k % 2 == 0:\n",
    "        left_side.append([v['name'], k, v['weight']])\n",
    "    else:\n",
    "        right_side.append([v['name'], k, v['weight']])"
   ]
  },
  {
   "cell_type": "markdown",
   "metadata": {},
   "source": [
    "### here we are adding weights to each sides. Unoptimized"
   ]
  },
  {
   "cell_type": "code",
   "execution_count": 36,
   "metadata": {},
   "outputs": [
    {
     "name": "stdout",
     "output_type": "stream",
     "text": [
      "442.7 457.1\n"
     ]
    }
   ],
   "source": [
    "left_sum, right_sum = 0,0\n",
    "for i in zip(left_side, right_side): # so i[0] is left and i[1] is right\n",
    "    if left_sum == right_sum:\n",
    "        left_sum += i[0][2]\n",
    "        right_sum += i[1][2]\n",
    "    else:\n",
    "        left_sum += i[0][2]\n",
    "        right_sum += i[1][2]\n",
    "\n",
    "print(left_sum, right_sum)"
   ]
  },
  {
   "cell_type": "markdown",
   "metadata": {},
   "source": [
    "### here we are adding weights to each sides. Optimized"
   ]
  },
  {
   "cell_type": "code",
   "execution_count": 37,
   "metadata": {},
   "outputs": [
    {
     "name": "stdout",
     "output_type": "stream",
     "text": [
      "452.0 447.79999999999995\n"
     ]
    }
   ],
   "source": [
    "left_side_opt, right_side_opt = [], []\n",
    "left_sum, right_sum = 0,0\n",
    "for i in zip(left_side, right_side): # so i[0] is left and i[1] is right\n",
    "    if left_sum == right_sum:\n",
    "        left_sum += i[0][2]\n",
    "        left_side_opt.append(i[0])\n",
    "        right_sum += i[1][2]\n",
    "        right_side_opt.append(i[1])\n",
    "    else:\n",
    "        if left_sum >= right_sum: # add smaller to left\n",
    "            if i[0][2] >= i[1][2]: # left is bigger\n",
    "                left_sum += i[1][2]\n",
    "                left_side_opt.append(i[1])\n",
    "                right_sum += i[0][2]\n",
    "                right_side_opt.append(i[0])\n",
    "            else: \n",
    "                left_sum += i[0][2]\n",
    "                left_side_opt.append(i[0])\n",
    "                right_sum += i[1][2]\n",
    "                right_side_opt.append(i[1])\n",
    "        else:  # add bigger to left\n",
    "            if i[0][2] >= i[1][2]: # left is bigger\n",
    "                left_sum += i[0][2]\n",
    "                left_side_opt.append(i[0])\n",
    "                right_sum += i[1][2]\n",
    "                right_side_opt.append(i[1])\n",
    "            else: \n",
    "                left_sum += i[1][2]\n",
    "                left_side_opt.append(i[1])\n",
    "                right_sum += i[0][2]\n",
    "                right_side_opt.append(i[0])\n",
    "                \n",
    "print(left_sum, right_sum)\n"
   ]
  },
  {
   "cell_type": "code",
   "execution_count": 38,
   "metadata": {},
   "outputs": [],
   "source": [
    "# first sitting\n",
    "\n",
    "to_write = pd.DataFrame([cox, [i[0] for i in left_side_opt], [i[0] for i in right_side_opt]])\n",
    "to_write.index = ['cox', 'left_side', 'right_side']\n",
    "to_write.to_csv('sitting1.csv', header=False)\n",
    "\n"
   ]
  },
  {
   "cell_type": "code",
   "execution_count": 39,
   "metadata": {},
   "outputs": [
    {
     "data": {
      "text/plain": [
       "([['tiia', 2, 55.0],\n",
       "  ['bulat', 4, 79.0],\n",
       "  ['joseph', 7, 65.0],\n",
       "  ['ulrika', 9, 64.5],\n",
       "  ['tatiana', 10, 55.5],\n",
       "  ['hans', 12, 73.0],\n",
       "  ['elli', 14, 60.0]],\n",
       " [['julia', 3, 70.0],\n",
       "  ['karen', 5, 67.5],\n",
       "  ['elina', 6, 55.1],\n",
       "  ['lauri', 8, 65.1],\n",
       "  ['jaana', 11, 62.0],\n",
       "  ['alison', 13, 64.1],\n",
       "  ['kul', 15, 64.0]])"
      ]
     },
     "execution_count": 39,
     "metadata": {},
     "output_type": "execute_result"
    }
   ],
   "source": [
    "left_side_opt, right_side_opt"
   ]
  },
  {
   "cell_type": "code",
   "execution_count": 40,
   "metadata": {},
   "outputs": [],
   "source": [
    "# second sitting. Cox becomes tiia\n",
    "\n",
    "temp = left_side_opt[0]\n",
    "left_side_opt[0] = right_side_opt[0]\n",
    "right_side_opt[0] = cox[0]\n",
    "cox = [temp]\n",
    "\n",
    "\n"
   ]
  },
  {
   "cell_type": "code",
   "execution_count": 41,
   "metadata": {},
   "outputs": [],
   "source": [
    "\n",
    "\n",
    "left_side_opt1, right_side_opt1 = [], []\n",
    "left_sum, right_sum = 0,0\n",
    "\n",
    "for i in zip(left_side_opt, right_side_opt): # so i[0] is left and i[1] is right\n",
    "    if left_sum == right_sum:\n",
    "        left_sum += i[0][2]\n",
    "        left_side_opt1.append(i[0])\n",
    "        right_sum += i[1][2]\n",
    "        right_side_opt1.append(i[1])\n",
    "    else:\n",
    "        if (i[0][0] == 'jaana'): # left, so switch to right\n",
    "            right_sum += i[0][2]\n",
    "            left_sum += i[1][2]\n",
    "            right_side_opt1.append(i[0])\n",
    "            left_side_opt1.append(i[1])\n",
    "        elif (i[1][0] == 'jaana'): # right, so switch to left\n",
    "            left_sum += i[1][2]\n",
    "            right_sum += i[0][2]\n",
    "            left_side_opt1.append(i[1])\n",
    "            right_side_opt1.append(i[0])\n",
    "        elif left_sum >= right_sum: # add smaller to left\n",
    "            if i[0][2] >= i[1][2]: # left is bigger\n",
    "                left_sum += i[1][2]\n",
    "                left_side_opt1.append(i[1])\n",
    "                right_sum += i[0][2]\n",
    "                right_side_opt1.append(i[0])\n",
    "            else: \n",
    "                left_sum += i[0][2]\n",
    "                left_side_opt1.append(i[0])\n",
    "                right_sum += i[1][2]\n",
    "                right_side_opt1.append(i[1])\n",
    "        else:  # add bigger to left\n",
    "            if i[0][2] >= i[1][2]: # left is bigger\n",
    "                left_sum += i[0][2]\n",
    "                left_side_opt1.append(i[0])\n",
    "                right_sum += i[1][2]\n",
    "                right_side_opt1.append(i[1])\n",
    "            else: \n",
    "                left_sum += i[1][2]\n",
    "                left_side_opt1.append(i[1])\n",
    "                right_sum += i[0][2]\n",
    "                right_side_opt1.append(i[0])\n",
    "                \n",
    "# second sitting\n",
    "\n",
    "to_write = pd.DataFrame([cox, [i[0] for i in left_side_opt1], [i[0] for i in right_side_opt1]])\n",
    "to_write.index = ['cox', 'left_side', 'right_side']\n",
    "to_write.to_csv('sitting2.csv', header=False)"
   ]
  },
  {
   "cell_type": "code",
   "execution_count": 42,
   "metadata": {},
   "outputs": [],
   "source": [
    "# third sitting, \n",
    "\n",
    "\n",
    "\n",
    "temp = left_side_opt1[0] # left 0 becomes cox\n",
    "left_side_opt1[0] = right_side_opt1[1] # \n",
    "right_side_opt1[1] = right_side_opt1[0]\n",
    "right_side_opt1[0] = cox[0]\n",
    "cox = [temp]\n",
    "\n",
    "left_side_opt2, right_side_opt2 = [], []\n",
    "left_sum, right_sum = 0,0\n",
    "\n",
    "for i in zip(left_side_opt1, right_side_opt1): # so i[0] is left and i[1] is right\n",
    "    if left_sum == right_sum:\n",
    "        left_sum += i[0][2]\n",
    "        left_side_opt2.append(i[0])\n",
    "        right_sum += i[1][2]\n",
    "        right_side_opt2.append(i[1])\n",
    "    else:\n",
    "        if (i[0][0] == 'jaana'): # left, so switch to right\n",
    "            print(i)\n",
    "            right_sum += i[0][2]\n",
    "            left_sum += i[1][2]\n",
    "            right_side_opt2.append(i[0])\n",
    "            left_side_opt2.append(i[1])\n",
    "\n",
    "        elif left_sum >= right_sum: # add smaller to left\n",
    "            if i[0][2] >= i[1][2]: # left is bigger\n",
    "                left_sum += i[1][2]\n",
    "                left_side_opt2.append(i[1])\n",
    "                right_sum += i[0][2]\n",
    "                right_side_opt2.append(i[0])\n",
    "            else: \n",
    "                left_sum += i[0][2]\n",
    "                left_side_opt2.append(i[0])\n",
    "                right_sum += i[1][2]\n",
    "                right_side_opt2.append(i[1])\n",
    "        else:  # add bigger to left\n",
    "            if i[0][2] >= i[1][2]: # left is bigger\n",
    "                left_sum += i[0][2]\n",
    "                left_side_opt2.append(i[0])\n",
    "                right_sum += i[1][2]\n",
    "                right_side_opt2.append(i[1])\n",
    "            else: \n",
    "                left_sum += i[1][2]\n",
    "                left_side_opt2.append(i[1])\n",
    "                right_sum += i[0][2]\n",
    "                right_side_opt2.append(i[0])\n",
    "                \n",
    "# third sitting\n",
    "\n",
    "to_write = pd.DataFrame([cox, [i[0] for i in left_side_opt2], [i[0] for i in right_side_opt2]])\n",
    "to_write.index = ['cox', 'left_side', 'right_side']\n",
    "to_write.to_csv('sitting3.csv', header=False)"
   ]
  },
  {
   "cell_type": "code",
   "execution_count": 43,
   "metadata": {},
   "outputs": [
    {
     "name": "stdout",
     "output_type": "stream",
     "text": [
      "(['jaana', 11, 62.0], ['tatiana', 10, 55.5])\n"
     ]
    }
   ],
   "source": [
    "# forth sitting\n",
    "\n",
    "\n",
    "temp = left_side_opt2[0] # left 0 becomes cox\n",
    "left_side_opt2[0] = right_side_opt2[0]\n",
    "right_side_opt2[0] = cox[0]\n",
    "cox = [temp]\n",
    "\n",
    "left_side_opt3, right_side_opt3 = [], []\n",
    "left_sum, right_sum = 0,0\n",
    "\n",
    "for i in zip(left_side_opt2, right_side_opt2): # so i[0] is left and i[1] is right\n",
    "    if left_sum == right_sum:\n",
    "        left_sum += i[0][2]\n",
    "        left_side_opt3.append(i[0])\n",
    "        right_sum += i[1][2]\n",
    "        right_side_opt3.append(i[1])\n",
    "    else:\n",
    "        if (i[0][0] == 'jaana'): # left, so switch to right\n",
    "            print(i)\n",
    "            right_sum += i[0][2]\n",
    "            left_sum += i[1][2]\n",
    "            right_side_opt3.append(i[0])\n",
    "            left_side_opt3.append(i[1])\n",
    "\n",
    "        elif left_sum >= right_sum: # add smaller to left\n",
    "            if i[0][2] >= i[1][2]: # left is bigger\n",
    "                left_sum += i[1][2]\n",
    "                left_side_opt3.append(i[1])\n",
    "                right_sum += i[0][2]\n",
    "                right_side_opt3.append(i[0])\n",
    "            else: \n",
    "                left_sum += i[0][2]\n",
    "                left_side_opt3.append(i[0])\n",
    "                right_sum += i[1][2]\n",
    "                right_side_opt3.append(i[1])\n",
    "        else:  # add bigger to left\n",
    "            if i[0][2] >= i[1][2]: # left is bigger\n",
    "                left_sum += i[0][2]\n",
    "                left_side_opt3.append(i[0])\n",
    "                right_sum += i[1][2]\n",
    "                right_side_opt3.append(i[1])\n",
    "            else: \n",
    "                left_sum += i[1][2]\n",
    "                left_side_opt3.append(i[1])\n",
    "                right_sum += i[0][2]\n",
    "                right_side_opt3.append(i[0])\n",
    "                \n",
    "# third sitting\n",
    "\n",
    "to_write = pd.DataFrame([cox, [i[0] for i in left_side_opt3], [i[0] for i in right_side_opt3]])\n",
    "to_write.index = ['cox', 'left_side', 'right_side']\n",
    "to_write.to_csv('sitting4.csv', header=False)"
   ]
  },
  {
   "cell_type": "markdown",
   "metadata": {},
   "source": [
    "#### playground"
   ]
  },
  {
   "cell_type": "code",
   "execution_count": 55,
   "metadata": {},
   "outputs": [],
   "source": [
    "boat = np.array((left,right))"
   ]
  },
  {
   "cell_type": "code",
   "execution_count": 58,
   "metadata": {},
   "outputs": [
    {
     "data": {
      "text/plain": [
       "array([[55. , 79. , 55.1, 65.1, 55.5, 73. , 60. ],\n",
       "       [70. , 67.5, 65. , 64.5, 62. , 64.1, 64. ]])"
      ]
     },
     "execution_count": 58,
     "metadata": {},
     "output_type": "execute_result"
    }
   ],
   "source": [
    "boat"
   ]
  },
  {
   "cell_type": "markdown",
   "metadata": {},
   "source": [
    "### we iterate pairwise over elements of the 2d array, and then minimize variance of sums of weights of each sides by checking (a,b) and (b,a)"
   ]
  },
  {
   "cell_type": "code",
   "execution_count": 60,
   "metadata": {},
   "outputs": [
    {
     "data": {
      "text/plain": [
       "array([78.80816327,  5.95428571])"
      ]
     },
     "execution_count": 60,
     "metadata": {},
     "output_type": "execute_result"
    }
   ],
   "source": [
    "np.nanvar(boat,axis=1)"
   ]
  },
  {
   "cell_type": "code",
   "execution_count": 62,
   "metadata": {},
   "outputs": [
    {
     "data": {
      "text/plain": [
       "5.954285714285716"
      ]
     },
     "execution_count": 62,
     "metadata": {},
     "output_type": "execute_result"
    }
   ],
   "source": [
    "var(boat[1])"
   ]
  },
  {
   "cell_type": "markdown",
   "metadata": {},
   "source": [
    "### so the idea is to minimiza the difference between the rows, so pair-wise sum of rowers' weights in pos 2,4.. & 3,5.. has the smallest difference.\n",
    "\n",
    "in other words it is known as an optimization version of the partition problem https://en.wikipedia.org/wiki/Partition_problem\n",
    "https://stackoverflow.com/questions/38133748/how-to-swap-members-of-two-arrays-so-that-the-difference-of-sum-of-the-elements\n",
    "\n",
    "One approach to the problem, imitating the way children choose teams for a game, is the greedy algorithm, which iterates through the numbers in descending order, assigning each of them to whichever subset has the smaller sum. This approach has a running time of O(n log n). This heuristic works well in practice when the numbers in the set are of about the same size as its cardinality or less, but it is not guaranteed to produce the best possible partition. For example, given the set S = {4, 5, 6, 7, 8} as input, this greedy algorithm would partition S into subsets {4, 5, 8} and {6, 7}; however, S has an exactly balanced partition into subsets {7, 8} and {4, 5, 6}.\n",
    "\n",
    "```\n",
    "def find_partition(int_list):\n",
    "    \"returns: An attempt at a partition of `int_list` into two sets of equal sum\"\n",
    "    A = set()\n",
    "    B = set()\n",
    "    for n in sorted(int_list, reverse=True):\n",
    "        if sum(A) < sum(B):\n",
    "           A.add(n)\n",
    "        else:\n",
    "           B.add(n)\n",
    "    return (A, B)\n",
    "```"
   ]
  },
  {
   "cell_type": "code",
   "execution_count": 332,
   "metadata": {},
   "outputs": [
    {
     "name": "stdout",
     "output_type": "stream",
     "text": [
      "51.840000000000245\n",
      "442.7 457.1\n"
     ]
    }
   ],
   "source": [
    "print(np.var((left, right)))\n",
    "print(left, right)"
   ]
  },
  {
   "cell_type": "code",
   "execution_count": 335,
   "metadata": {},
   "outputs": [
    {
     "name": "stdout",
     "output_type": "stream",
     "text": [
      "0.04000000000000682\n",
      "442.7 457.1\n"
     ]
    }
   ],
   "source": [
    "print(np.var((left+7, right-7)))\n",
    "print(left, right)"
   ]
  },
  {
   "cell_type": "code",
   "execution_count": 338,
   "metadata": {},
   "outputs": [
    {
     "data": {
      "text/plain": [
       "1.0"
      ]
     },
     "execution_count": 338,
     "metadata": {},
     "output_type": "execute_result"
    }
   ],
   "source": [
    "np.var((3,1))"
   ]
  },
  {
   "cell_type": "code",
   "execution_count": 339,
   "metadata": {},
   "outputs": [],
   "source": [
    "a = np.array([[1, np.nan], [3, 4]])"
   ]
  },
  {
   "cell_type": "code",
   "execution_count": 343,
   "metadata": {},
   "outputs": [
    {
     "data": {
      "text/plain": [
       "array([0.  , 0.25])"
      ]
     },
     "execution_count": 343,
     "metadata": {},
     "output_type": "execute_result"
    }
   ],
   "source": [
    "np.nanvar(a, axis=1)"
   ]
  },
  {
   "cell_type": "code",
   "execution_count": 347,
   "metadata": {},
   "outputs": [],
   "source": [
    "a = np.empty((5,))"
   ]
  },
  {
   "cell_type": "code",
   "execution_count": 348,
   "metadata": {},
   "outputs": [
    {
     "data": {
      "text/plain": [
       "array([0., 0., 0., 0., 0.])"
      ]
     },
     "execution_count": 348,
     "metadata": {},
     "output_type": "execute_result"
    }
   ],
   "source": [
    "a"
   ]
  },
  {
   "cell_type": "code",
   "execution_count": null,
   "metadata": {},
   "outputs": [],
   "source": []
  }
 ],
 "metadata": {
  "kernelspec": {
   "display_name": "Python 3",
   "language": "python",
   "name": "python3"
  },
  "language_info": {
   "codemirror_mode": {
    "name": "ipython",
    "version": 3
   },
   "file_extension": ".py",
   "mimetype": "text/x-python",
   "name": "python",
   "nbconvert_exporter": "python",
   "pygments_lexer": "ipython3",
   "version": "3.7.2"
  }
 },
 "nbformat": 4,
 "nbformat_minor": 2
}
