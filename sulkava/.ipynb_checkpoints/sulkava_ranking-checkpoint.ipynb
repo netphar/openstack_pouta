{
 "cells": [
  {
   "cell_type": "markdown",
   "metadata": {},
   "source": [
    "### here is the playground for ranking the rowers. \n",
    "For now we will just rank people based on their heights. This way we will generate a naive ranking solution for Matcher()\n",
    "Weights will be checked after that ranking, so that pairs (2:3; 4:5, etc.) have the right weight distribution"
   ]
  },
  {
   "cell_type": "code",
   "execution_count": 99,
   "metadata": {},
   "outputs": [
    {
     "name": "stdout",
     "output_type": "stream",
     "text": [
      "Populating the interactive namespace from numpy and matplotlib\n"
     ]
    }
   ],
   "source": [
    "%pylab inline\n",
    "import pandas as pd\n",
    "import numpy as np\n",
    "from collections import defaultdict"
   ]
  },
  {
   "cell_type": "code",
   "execution_count": 134,
   "metadata": {},
   "outputs": [],
   "source": [
    "dtypes = {'cox': bool,'name': str, 'height [cm]': np.float, 'weight [kg]': np.float, 'notes': str}\n",
    "prefs = pd.read_csv('prefs.csv', sep=';', index_col=False, dtype=dtypes)"
   ]
  },
  {
   "cell_type": "code",
   "execution_count": 135,
   "metadata": {},
   "outputs": [],
   "source": [
    "# accomodate to elina's preference of sitting in front, by manually setting her height to height = height + 7\n",
    "prefs.loc[prefs['name'] == 'Elina', 'height [cm]'] = 172.0"
   ]
  },
  {
   "cell_type": "code",
   "execution_count": 136,
   "metadata": {},
   "outputs": [
    {
     "data": {
      "text/html": [
       "<div>\n",
       "<style scoped>\n",
       "    .dataframe tbody tr th:only-of-type {\n",
       "        vertical-align: middle;\n",
       "    }\n",
       "\n",
       "    .dataframe tbody tr th {\n",
       "        vertical-align: top;\n",
       "    }\n",
       "\n",
       "    .dataframe thead th {\n",
       "        text-align: right;\n",
       "    }\n",
       "</style>\n",
       "<table border=\"1\" class=\"dataframe\">\n",
       "  <thead>\n",
       "    <tr style=\"text-align: right;\">\n",
       "      <th></th>\n",
       "      <th>cox</th>\n",
       "      <th>name</th>\n",
       "      <th>height [cm]</th>\n",
       "      <th>weight [kg]</th>\n",
       "      <th>notes</th>\n",
       "    </tr>\n",
       "  </thead>\n",
       "  <tbody>\n",
       "    <tr>\n",
       "      <th>0</th>\n",
       "      <td>True</td>\n",
       "      <td>Tiia</td>\n",
       "      <td>166.0</td>\n",
       "      <td>55.0</td>\n",
       "      <td>rower/white oar, can cox 1/4</td>\n",
       "    </tr>\n",
       "    <tr>\n",
       "      <th>1</th>\n",
       "      <td>False</td>\n",
       "      <td>Alison</td>\n",
       "      <td>164.0</td>\n",
       "      <td>64.1</td>\n",
       "      <td>Rower</td>\n",
       "    </tr>\n",
       "    <tr>\n",
       "      <th>2</th>\n",
       "      <td>False</td>\n",
       "      <td>Bulat</td>\n",
       "      <td>174.0</td>\n",
       "      <td>79.0</td>\n",
       "      <td>NaN</td>\n",
       "    </tr>\n",
       "    <tr>\n",
       "      <th>3</th>\n",
       "      <td>True</td>\n",
       "      <td>Arvydas</td>\n",
       "      <td>181.0</td>\n",
       "      <td>77.0</td>\n",
       "      <td>Cox, white</td>\n",
       "    </tr>\n",
       "    <tr>\n",
       "      <th>4</th>\n",
       "      <td>True</td>\n",
       "      <td>Julia</td>\n",
       "      <td>175.0</td>\n",
       "      <td>70.0</td>\n",
       "      <td>I usually do worse in the last two rows becaus...</td>\n",
       "    </tr>\n",
       "    <tr>\n",
       "      <th>5</th>\n",
       "      <td>False</td>\n",
       "      <td>Lauri</td>\n",
       "      <td>170.0</td>\n",
       "      <td>65.1</td>\n",
       "      <td>NaN</td>\n",
       "    </tr>\n",
       "    <tr>\n",
       "      <th>6</th>\n",
       "      <td>False</td>\n",
       "      <td>Tatiana</td>\n",
       "      <td>169.0</td>\n",
       "      <td>55.5</td>\n",
       "      <td>rower or white oar if needed</td>\n",
       "    </tr>\n",
       "    <tr>\n",
       "      <th>7</th>\n",
       "      <td>False</td>\n",
       "      <td>Ulrika</td>\n",
       "      <td>169.1</td>\n",
       "      <td>64.5</td>\n",
       "      <td>Rower or white if needed</td>\n",
       "    </tr>\n",
       "    <tr>\n",
       "      <th>8</th>\n",
       "      <td>True</td>\n",
       "      <td>Karen</td>\n",
       "      <td>173.5</td>\n",
       "      <td>67.5</td>\n",
       "      <td>Rower 1st/2nd row, white oar (if needed), also...</td>\n",
       "    </tr>\n",
       "    <tr>\n",
       "      <th>9</th>\n",
       "      <td>False</td>\n",
       "      <td>Hans</td>\n",
       "      <td>179.0</td>\n",
       "      <td>73.0</td>\n",
       "      <td>NaN</td>\n",
       "    </tr>\n",
       "    <tr>\n",
       "      <th>10</th>\n",
       "      <td>False</td>\n",
       "      <td>Jaana</td>\n",
       "      <td>167.0</td>\n",
       "      <td>62.0</td>\n",
       "      <td>want to change sides in every swich</td>\n",
       "    </tr>\n",
       "    <tr>\n",
       "      <th>11</th>\n",
       "      <td>False</td>\n",
       "      <td>Joseph</td>\n",
       "      <td>170.1</td>\n",
       "      <td>65.0</td>\n",
       "      <td>NaN</td>\n",
       "    </tr>\n",
       "    <tr>\n",
       "      <th>12</th>\n",
       "      <td>False</td>\n",
       "      <td>Elli</td>\n",
       "      <td>163.0</td>\n",
       "      <td>60.0</td>\n",
       "      <td>NaN</td>\n",
       "    </tr>\n",
       "    <tr>\n",
       "      <th>13</th>\n",
       "      <td>False</td>\n",
       "      <td>Elina</td>\n",
       "      <td>172.0</td>\n",
       "      <td>55.1</td>\n",
       "      <td>Rower in the front part of the boat</td>\n",
       "    </tr>\n",
       "    <tr>\n",
       "      <th>14</th>\n",
       "      <td>False</td>\n",
       "      <td>Kul</td>\n",
       "      <td>157.0</td>\n",
       "      <td>64.0</td>\n",
       "      <td>NaN</td>\n",
       "    </tr>\n",
       "  </tbody>\n",
       "</table>\n",
       "</div>"
      ],
      "text/plain": [
       "      cox     name  height [cm]  weight [kg]  \\\n",
       "0    True     Tiia        166.0         55.0   \n",
       "1   False   Alison        164.0         64.1   \n",
       "2   False    Bulat        174.0         79.0   \n",
       "3    True  Arvydas        181.0         77.0   \n",
       "4    True    Julia        175.0         70.0   \n",
       "5   False    Lauri        170.0         65.1   \n",
       "6   False  Tatiana        169.0         55.5   \n",
       "7   False   Ulrika        169.1         64.5   \n",
       "8    True    Karen        173.5         67.5   \n",
       "9   False     Hans        179.0         73.0   \n",
       "10  False    Jaana        167.0         62.0   \n",
       "11  False   Joseph        170.1         65.0   \n",
       "12  False     Elli        163.0         60.0   \n",
       "13  False    Elina        172.0         55.1   \n",
       "14  False      Kul        157.0         64.0   \n",
       "\n",
       "                                                notes  \n",
       "0                        rower/white oar, can cox 1/4  \n",
       "1                                               Rower  \n",
       "2                                                 NaN  \n",
       "3                                          Cox, white  \n",
       "4   I usually do worse in the last two rows becaus...  \n",
       "5                                                 NaN  \n",
       "6                        rower or white oar if needed  \n",
       "7                            Rower or white if needed  \n",
       "8   Rower 1st/2nd row, white oar (if needed), also...  \n",
       "9                                                 NaN  \n",
       "10                want to change sides in every swich  \n",
       "11                                                NaN  \n",
       "12                                                NaN  \n",
       "13                Rower in the front part of the boat  \n",
       "14                                                NaN  "
      ]
     },
     "execution_count": 136,
     "metadata": {},
     "output_type": "execute_result"
    }
   ],
   "source": [
    "prefs"
   ]
  },
  {
   "cell_type": "code",
   "execution_count": 137,
   "metadata": {},
   "outputs": [],
   "source": [
    "# create a dict object, where name: {weight, height, cox}\n",
    "d = dict()\n",
    "for i in range(len(prefs)):\n",
    "    d[prefs.iloc[i,:]['name']] = {'height': prefs.iloc[i,:]['height [cm]'], 'weight': prefs.iloc[i,:]['weight [kg]'], 'cox': prefs.iloc[i,:]['cox']}"
   ]
  },
  {
   "cell_type": "code",
   "execution_count": 141,
   "metadata": {},
   "outputs": [],
   "source": [
    "# prep for rankign \n",
    "heights = dict()\n",
    "coxes = dict()\n",
    "for k,v in d.items():\n",
    "    heights[k]= v['height']\n",
    "for k,v in d.items():\n",
    "    coxes[k]= v['cox']\n",
    "    \n",
    "# ranking by height https://stackoverflow.com/questions/30282600/python-ranking-dictionary-return-rank\n",
    "\n",
    "heights_rank = {key: rank for rank, key in enumerate(sorted(heights, key=heights.get, reverse=True), 1)}\n",
    "for k, v in heights_rank.items():\n",
    "    d[k]['rank_height'] = v  # do not modify in-place"
   ]
  },
  {
   "cell_type": "code",
   "execution_count": 142,
   "metadata": {},
   "outputs": [],
   "source": [
    "dd = d.copy()"
   ]
  },
  {
   "cell_type": "code",
   "execution_count": 160,
   "metadata": {},
   "outputs": [
    {
     "data": {
      "text/plain": [
       "\u001b[0;31mInit signature:\u001b[0m \u001b[0mrange\u001b[0m\u001b[0;34m(\u001b[0m\u001b[0mself\u001b[0m\u001b[0;34m,\u001b[0m \u001b[0;34m/\u001b[0m\u001b[0;34m,\u001b[0m \u001b[0;34m*\u001b[0m\u001b[0margs\u001b[0m\u001b[0;34m,\u001b[0m \u001b[0;34m**\u001b[0m\u001b[0mkwargs\u001b[0m\u001b[0;34m)\u001b[0m\u001b[0;34m\u001b[0m\u001b[0;34m\u001b[0m\u001b[0m\n",
       "\u001b[0;31mDocstring:\u001b[0m     \n",
       "range(stop) -> range object\n",
       "range(start, stop[, step]) -> range object\n",
       "\n",
       "Return an object that produces a sequence of integers from start (inclusive)\n",
       "to stop (exclusive) by step.  range(i, j) produces i, i+1, i+2, ..., j-1.\n",
       "start defaults to 0, and stop is omitted!  range(4) produces 0, 1, 2, 3.\n",
       "These are exactly the valid indices for a list of 4 elements.\n",
       "When step is given, it specifies the increment (or decrement).\n",
       "\u001b[0;31mType:\u001b[0m           type\n",
       "\u001b[0;31mSubclasses:\u001b[0m     \n"
      ]
     },
     "metadata": {},
     "output_type": "display_data"
    }
   ],
   "source": [
    "??range"
   ]
  },
  {
   "cell_type": "code",
   "execution_count": 174,
   "metadata": {},
   "outputs": [
    {
     "data": {
      "text/plain": [
       "[15, 14, 13, 12, 11, 10, 9, 8, 7, 6, 5, 4, 3, 2]"
      ]
     },
     "execution_count": 174,
     "metadata": {},
     "output_type": "execute_result"
    }
   ],
   "source": [
    "list(arange(15,1,-1))"
   ]
  },
  {
   "cell_type": "code",
   "execution_count": 180,
   "metadata": {},
   "outputs": [
    {
     "name": "stdout",
     "output_type": "stream",
     "text": [
      "[12, 13, 11, 14, 10]\n",
      "[13, 14, 12, 15, 11]\n",
      "[4, 5, 3, 6, 2]\n",
      "[1, 2, 3, 4, 5, 6, 7, 8, 9, 10, 11, 12, 13, 14]\n",
      "[3, 4, 2, 5, 1]\n",
      "[8, 9, 7, 10, 6]\n",
      "[10, 11, 9, 12, 8]\n",
      "[9, 10, 8, 11, 7]\n",
      "[5, 6, 4, 7, 3]\n",
      "[2, 3, 1, 4, 0]\n",
      "[11, 12, 10, 13, 9]\n",
      "[7, 8, 6, 9, 5]\n",
      "[14, 15, 13]\n",
      "[6, 7, 5, 8, 4]\n",
      "[15, 14, 13, 12, 11, 10, 9, 8, 7, 6, 5, 4, 3, 2, 1]\n"
     ]
    }
   ],
   "source": [
    "for k, v in dd.items():\n",
    "    out = list()\n",
    "    if v['rank_height'] == 1:\n",
    "        rest = list(range(v['rank_height'],len(dd)))\n",
    "        out = out + rest\n",
    "        print(out)\n",
    "    elif v['rank_height'] == len(dd):\n",
    "        rest = list(arange(v['rank_height'], 0,-1))\n",
    "        out = out + rest\n",
    "        print(out)\n",
    "    elif v['rank_height'] < len(dd):\n",
    "        rest = [v['rank_height'],v['rank_height']+1,v['rank_height']-1 ]\n",
    "        if v['rank_height']+1 < len(dd):\n",
    "            rest = rest + [v['rank_height']+2,v['rank_height']-2]\n",
    "        print(rest)\n",
    "#    dd[k]['rank_height_full'] = v['rank_height']\n"
   ]
  },
  {
   "cell_type": "code",
   "execution_count": 171,
   "metadata": {},
   "outputs": [
    {
     "data": {
      "text/plain": [
       "\u001b[0;31mDocstring:\u001b[0m\n",
       "arange([start,] stop[, step,], dtype=None)\n",
       "\n",
       "Return evenly spaced values within a given interval.\n",
       "\n",
       "Values are generated within the half-open interval ``[start, stop)``\n",
       "(in other words, the interval including `start` but excluding `stop`).\n",
       "For integer arguments the function is equivalent to the Python built-in\n",
       "`range <http://docs.python.org/lib/built-in-funcs.html>`_ function,\n",
       "but returns an ndarray rather than a list.\n",
       "\n",
       "When using a non-integer step, such as 0.1, the results will often not\n",
       "be consistent.  It is better to use ``linspace`` for these cases.\n",
       "\n",
       "Parameters\n",
       "----------\n",
       "start : number, optional\n",
       "    Start of interval.  The interval includes this value.  The default\n",
       "    start value is 0.\n",
       "stop : number\n",
       "    End of interval.  The interval does not include this value, except\n",
       "    in some cases where `step` is not an integer and floating point\n",
       "    round-off affects the length of `out`.\n",
       "step : number, optional\n",
       "    Spacing between values.  For any output `out`, this is the distance\n",
       "    between two adjacent values, ``out[i+1] - out[i]``.  The default\n",
       "    step size is 1.  If `step` is specified as a position argument,\n",
       "    `start` must also be given.\n",
       "dtype : dtype\n",
       "    The type of the output array.  If `dtype` is not given, infer the data\n",
       "    type from the other input arguments.\n",
       "\n",
       "Returns\n",
       "-------\n",
       "arange : ndarray\n",
       "    Array of evenly spaced values.\n",
       "\n",
       "    For floating point arguments, the length of the result is\n",
       "    ``ceil((stop - start)/step)``.  Because of floating point overflow,\n",
       "    this rule may result in the last element of `out` being greater\n",
       "    than `stop`.\n",
       "\n",
       "See Also\n",
       "--------\n",
       "linspace : Evenly spaced numbers with careful handling of endpoints.\n",
       "ogrid: Arrays of evenly spaced numbers in N-dimensions.\n",
       "mgrid: Grid-shaped arrays of evenly spaced numbers in N-dimensions.\n",
       "\n",
       "Examples\n",
       "--------\n",
       ">>> np.arange(3)\n",
       "array([0, 1, 2])\n",
       ">>> np.arange(3.0)\n",
       "array([ 0.,  1.,  2.])\n",
       ">>> np.arange(3,7)\n",
       "array([3, 4, 5, 6])\n",
       ">>> np.arange(3,7,2)\n",
       "array([3, 5])\n",
       "\u001b[0;31mType:\u001b[0m      builtin_function_or_method\n"
      ]
     },
     "metadata": {},
     "output_type": "display_data"
    }
   ],
   "source": [
    "??arange"
   ]
  },
  {
   "cell_type": "code",
   "execution_count": 139,
   "metadata": {},
   "outputs": [
    {
     "name": "stdout",
     "output_type": "stream",
     "text": [
      "Tiia\n",
      "Alison 13\n",
      "Bulat 4\n",
      "Arvydas\n",
      "Julia\n",
      "Lauri 8\n",
      "Tatiana 10\n",
      "Ulrika 9\n",
      "Karen\n",
      "Hans 2\n",
      "Jaana 11\n",
      "Joseph 7\n",
      "Elli 14\n",
      "Elina 6\n",
      "Kul 15\n"
     ]
    }
   ],
   "source": [
    "for k,v in d.items():\n",
    "    if v['cox']:\n",
    "        print(k)\n",
    "    else: print(k, v['rank_height'])"
   ]
  },
  {
   "cell_type": "code",
   "execution_count": 140,
   "metadata": {},
   "outputs": [
    {
     "data": {
      "text/plain": [
       "{'Tiia': {'height': 166.0, 'weight': 55.0, 'cox': True, 'rank_height': 12},\n",
       " 'Alison': {'height': 164.0, 'weight': 64.1, 'cox': False, 'rank_height': 13},\n",
       " 'Bulat': {'height': 174.0, 'weight': 79.0, 'cox': False, 'rank_height': 4},\n",
       " 'Arvydas': {'height': 181.0, 'weight': 77.0, 'cox': True, 'rank_height': 1},\n",
       " 'Julia': {'height': 175.0, 'weight': 70.0, 'cox': True, 'rank_height': 3},\n",
       " 'Lauri': {'height': 170.0, 'weight': 65.1, 'cox': False, 'rank_height': 8},\n",
       " 'Tatiana': {'height': 169.0, 'weight': 55.5, 'cox': False, 'rank_height': 10},\n",
       " 'Ulrika': {'height': 169.1, 'weight': 64.5, 'cox': False, 'rank_height': 9},\n",
       " 'Karen': {'height': 173.5, 'weight': 67.5, 'cox': True, 'rank_height': 5},\n",
       " 'Hans': {'height': 179.0, 'weight': 73.0, 'cox': False, 'rank_height': 2},\n",
       " 'Jaana': {'height': 167.0, 'weight': 62.0, 'cox': False, 'rank_height': 11},\n",
       " 'Joseph': {'height': 170.1, 'weight': 65.0, 'cox': False, 'rank_height': 7},\n",
       " 'Elli': {'height': 163.0, 'weight': 60.0, 'cox': False, 'rank_height': 14},\n",
       " 'Elina': {'height': 172.0, 'weight': 55.1, 'cox': False, 'rank_height': 6},\n",
       " 'Kul': {'height': 157.0, 'weight': 64.0, 'cox': False, 'rank_height': 15}}"
      ]
     },
     "execution_count": 140,
     "metadata": {},
     "output_type": "execute_result"
    }
   ],
   "source": [
    "d"
   ]
  },
  {
   "cell_type": "code",
   "execution_count": 49,
   "metadata": {},
   "outputs": [
    {
     "data": {
      "text/plain": [
       "{'Tiia': {'height': 166.0, 'weight': 55.0, 'cox': True},\n",
       " 'Alison': {'height': 164.0, 'weight': 64.0, 'cox': False},\n",
       " 'Bulat': {'height': 174.0, 'weight': 79.0, 'cox': False},\n",
       " 'Arvydas': {'height': 181.0, 'weight': 77.0, 'cox': True},\n",
       " 'Julia': {'height': 175.0, 'weight': 70.0, 'cox': True},\n",
       " 'Lauri': {'height': 170.0, 'weight': 65.0, 'cox': False},\n",
       " 'Tatiana': {'height': 169.0, 'weight': 55.5, 'cox': False},\n",
       " 'Ulrika': {'height': 169.0, 'weight': 64.5, 'cox': False},\n",
       " 'Karen': {'height': 173.5, 'weight': 67.5, 'cox': True},\n",
       " 'Hans': {'height': 179.0, 'weight': 73.0, 'cox': False},\n",
       " 'Jaana': {'height': 167.0, 'weight': 62.0, 'cox': False},\n",
       " 'Joseph': {'height': 170.0, 'weight': 65.0, 'cox': False},\n",
       " 'Elli': {'height': 163.0, 'weight': 60.0, 'cox': False},\n",
       " 'Elina': {'height': 165.0, 'weight': 55.0, 'cox': False},\n",
       " 'Kul': {'height': 157.0, 'weight': 64.0, 'cox': False}}"
      ]
     },
     "execution_count": 49,
     "metadata": {},
     "output_type": "execute_result"
    }
   ],
   "source": [
    "d"
   ]
  },
  {
   "cell_type": "code",
   "execution_count": 25,
   "metadata": {},
   "outputs": [
    {
     "data": {
      "text/plain": [
       "\u001b[0;31mSignature:\u001b[0m \u001b[0mrank\u001b[0m\u001b[0;34m(\u001b[0m\u001b[0ma\u001b[0m\u001b[0;34m)\u001b[0m\u001b[0;34m\u001b[0m\u001b[0;34m\u001b[0m\u001b[0m\n",
       "\u001b[0;31mSource:\u001b[0m   \n",
       "\u001b[0;32mdef\u001b[0m \u001b[0mrank\u001b[0m\u001b[0;34m(\u001b[0m\u001b[0ma\u001b[0m\u001b[0;34m)\u001b[0m\u001b[0;34m:\u001b[0m\u001b[0;34m\u001b[0m\n",
       "\u001b[0;34m\u001b[0m    \u001b[0;34m\"\"\"\u001b[0m\n",
       "\u001b[0;34m    Return the number of dimensions of an array.\u001b[0m\n",
       "\u001b[0;34m\u001b[0m\n",
       "\u001b[0;34m    .. note::\u001b[0m\n",
       "\u001b[0;34m        This function is deprecated in NumPy 1.9 to avoid confusion with\u001b[0m\n",
       "\u001b[0;34m        `numpy.linalg.matrix_rank`. The ``ndim`` attribute or function\u001b[0m\n",
       "\u001b[0;34m        should be used instead.\u001b[0m\n",
       "\u001b[0;34m\u001b[0m\n",
       "\u001b[0;34m    See Also\u001b[0m\n",
       "\u001b[0;34m    --------\u001b[0m\n",
       "\u001b[0;34m    ndim : equivalent non-deprecated function\u001b[0m\n",
       "\u001b[0;34m\u001b[0m\n",
       "\u001b[0;34m    Notes\u001b[0m\n",
       "\u001b[0;34m    -----\u001b[0m\n",
       "\u001b[0;34m    In the old Numeric package, `rank` was the term used for the number of\u001b[0m\n",
       "\u001b[0;34m    dimensions, but in NumPy `ndim` is used instead.\u001b[0m\n",
       "\u001b[0;34m    \"\"\"\u001b[0m\u001b[0;34m\u001b[0m\n",
       "\u001b[0;34m\u001b[0m    \u001b[0;31m# 2014-04-12, 1.9\u001b[0m\u001b[0;34m\u001b[0m\n",
       "\u001b[0;34m\u001b[0m    \u001b[0mwarnings\u001b[0m\u001b[0;34m.\u001b[0m\u001b[0mwarn\u001b[0m\u001b[0;34m(\u001b[0m\u001b[0;34m\u001b[0m\n",
       "\u001b[0;34m\u001b[0m        \u001b[0;34m\"`rank` is deprecated; use the `ndim` attribute or function instead. \"\u001b[0m\u001b[0;34m\u001b[0m\n",
       "\u001b[0;34m\u001b[0m        \u001b[0;34m\"To find the rank of a matrix see `numpy.linalg.matrix_rank`.\"\u001b[0m\u001b[0;34m,\u001b[0m\u001b[0;34m\u001b[0m\n",
       "\u001b[0;34m\u001b[0m        \u001b[0mVisibleDeprecationWarning\u001b[0m\u001b[0;34m,\u001b[0m \u001b[0mstacklevel\u001b[0m\u001b[0;34m=\u001b[0m\u001b[0;36m2\u001b[0m\u001b[0;34m)\u001b[0m\u001b[0;34m\u001b[0m\n",
       "\u001b[0;34m\u001b[0m    \u001b[0;32mreturn\u001b[0m \u001b[0mndim\u001b[0m\u001b[0;34m(\u001b[0m\u001b[0ma\u001b[0m\u001b[0;34m)\u001b[0m\u001b[0;34m\u001b[0m\u001b[0;34m\u001b[0m\u001b[0m\n",
       "\u001b[0;31mFile:\u001b[0m      ~/miniconda3/envs/fimm/lib/python3.7/site-packages/numpy/core/fromnumeric.py\n",
       "\u001b[0;31mType:\u001b[0m      function\n"
      ]
     },
     "metadata": {},
     "output_type": "display_data"
    }
   ],
   "source": [
    "??rank"
   ]
  },
  {
   "cell_type": "code",
   "execution_count": null,
   "metadata": {},
   "outputs": [],
   "source": []
  }
 ],
 "metadata": {
  "kernelspec": {
   "display_name": "Python 3",
   "language": "python",
   "name": "python3"
  },
  "language_info": {
   "codemirror_mode": {
    "name": "ipython",
    "version": 3
   },
   "file_extension": ".py",
   "mimetype": "text/x-python",
   "name": "python",
   "nbconvert_exporter": "python",
   "pygments_lexer": "ipython3",
   "version": "3.7.2"
  }
 },
 "nbformat": 4,
 "nbformat_minor": 2
}
